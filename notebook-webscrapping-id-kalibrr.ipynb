{
 "cells": [
  {
   "attachments": {},
   "cell_type": "markdown",
   "metadata": {},
   "source": [
    "# Capstone Webscrapping using BeautifulSoup\n",
    "## Web Scraping pada Website kalibrr.id\n",
    "Perkembangan teknologi AI (Artificial Intelligence) untuk penanganan Big Data semakin masif bergerak diberbagai bidang, \n",
    "sehingga kebutuhan akan perkejaan di bidang data juga akan meningkat seiring dengan meningkatnya\n",
    "teknologi tersebut. Fungsi AI (Artificial Intelligence) akan sangat tergantung pada seberapa besar data yang tersedia dan \n",
    "darimana sumber data informasi tersebut didapatkan. \n",
    "\n",
    "Dalam praktiknya, Saat kita ingin menggali suatu informasi atau ingin mendapatkan insight,\n",
    "Data tidaklah selalu tersedia dalam bentuk dataset lengkap yang siap untuk dianalisa\n",
    "lebih lanjut.Diposisi dimana tidak ada dataset yang dimiliki, Web Scrapping bisa dijadikan salah satu\n",
    "solusi untuk mendapatkan dataset dengan memanfaatkan website yang mau kita gali informasinya.\n",
    "\n",
    "Web scraping (atau juga disebut sebagai web data mining atau web harvesting) adalah teknik pengambilan data dari halaman web secara otomatis dengan menggunakan perangkat lunak tertentu. Teknik ini digunakan untuk mengekstrak informasi dari berbagai situs web, termasuk teks, gambar, audio, video, dan informasi lainnya yang dapat diakses melalui jaringan internet.\n",
    "\n",
    "Disini akan dibahas informasi tentang Peluang pekerjaan pada bidang kategori data yang diambil \n",
    "dari Website penyedia informasi pekerjaan yaitu kalinbrr.id serta insight apa saja yang didapat.\n",
    "Dengan menggunakan Bahasa Pemrograman Python  an libary-libary pendukung seperti libary web parser BeautifulSoup,\n",
    "Pandas Libary sebagai tools analsis, matplotlib untuk visualisasi dan juga Jupiter notebook untuk media pengkodean.\n",
    "\n",
    "www.kalibrr.id adalah situs web yang menyediakan platform untuk pencarian pekerjaan dan rekrutmen di Indonesia. Situs ini memungkinkan perusahaan untuk memposting lowongan pekerjaan mereka dan mencari kandidat yang cocok untuk posisi tersebut, serta memungkinkan pencari kerja untuk mencari lowongan pekerjaan yang sesuai dengan kualifikasi dan minat mereka.\n",
    "\n",
    "<img src=\"asset/kalibrr_id.png\">\n",
    "\n",
    "Pada pembahasan topik yang akan di scrapping adalah Lowongan perkerjaan dengan kategori \"Data\" pada website www.kalibrr.id\n"
   ]
  },
  {
   "attachments": {},
   "cell_type": "markdown",
   "metadata": {},
   "source": [
    "## Github\n",
    "\n",
    "Hasil dari pembahasan sudah diupload dan dapat dilihat pada [Github](https://github.com/rusdipermana/webscrapping-id-kalibrr).\n"
   ]
  },
  {
   "attachments": {},
   "cell_type": "markdown",
   "metadata": {},
   "source": [
    "## Setting Virtual Environment , Kernel and Requirement Dependencies\n",
    "\n",
    "Environment dan Kernel pada Jupyter Notebook berfungsi untuk memastikan bahwa dependensi dan pustaka yang digunakan pada proyek atau aplikasi tertentu terisolasi dan tidak mempengaruhi proyek atau aplikasi lain. Kernel, sebagai bagian inti dari sistem, bertanggung jawab untuk mengeksekusi kode dalam bahasa pemrograman tertentu dan dapat diganti sesuai kebutuhan.\n",
    "\n",
    "a. Untuk Membuat Virtual Environment dan kernel, buka Anaconda Prompt dengan perintah sebagai berikut :\n",
    "\n",
    "- conda create -n <ENV_NAME> python=3.10\n",
    "- conda activate <ENV_NAME>\n",
    "- conda install ipykernel\n",
    "- python -m ipykernel install --user --name <ENV_NAME>\n",
    "\n",
    "b. Requirement Dependencies, atau dependensi kebutuhan, adalah daftar pustaka, modul, atau perangkat lunak lainnya yang diperlukan oleh suatu program atau aplikasi untuk berjalan dengan benar. Dalam pengembangan perangkat lunak, daftar dependensi biasanya didefinisikan dalam sebuah file yang disebut \"requirements file\". Seluruh dependecies telah di-export ke dalam file requirements.txt. Oleh karena itu untuk melakukan install packages anda hanya perlu melakukan install pakage sebagai berikut :\n",
    "\n",
    "- pip install -r requirements.txt --user\n",
    "\n",
    "<img src=\"asset/install_requirements.png\">\n",
    "\n",
    "untuk memastikan seluruh dependecies sudah ter-install, kita bisa melakukan pengecekan dengan perintah berikut :\n",
    "\n",
    "- conda list -n <ENY_NAME>\n",
    "\n",
    "<img src=\"asset/capture_list_env.png\">\n",
    "\n"
   ]
  },
  {
   "attachments": {},
   "cell_type": "markdown",
   "metadata": {},
   "source": [
    "Setelah membuat environment dan semua libary sudah diinstall, selanjutnya kita mulai dengan import semua libary yang dibutuhkan."
   ]
  },
  {
   "cell_type": "code",
   "execution_count": 3,
   "metadata": {},
   "outputs": [
    {
     "name": "stderr",
     "output_type": "stream",
     "text": [
      "c:\\Users\\rusdi\\anaconda3\\envs\\vulcan_da\\lib\\site-packages\\numpy\\_distributor_init.py:30: UserWarning: loaded more than 1 DLL from .libs:\n",
      "c:\\Users\\rusdi\\anaconda3\\envs\\vulcan_da\\lib\\site-packages\\numpy\\.libs\\libopenblas.FB5AE2TYXYH2IJRDKGDGQ3XBKLKTF43H.gfortran-win_amd64.dll\n",
      "c:\\Users\\rusdi\\anaconda3\\envs\\vulcan_da\\lib\\site-packages\\numpy\\.libs\\libopenblas64__v0.3.21-gcc_10_3_0.dll\n",
      "  warnings.warn(\"loaded more than 1 DLL from .libs:\"\n"
     ]
    }
   ],
   "source": [
    "import requests\n",
    "import re\n",
    "from urllib.request import urlopen as uReq\n",
    "from bs4 import BeautifulSoup\n",
    "import pandas as pd\n",
    "from cgitb import text\n",
    "import string\n",
    "import matplotlib.pyplot as plt\n",
    "import numpy as np\n",
    "from cProfile import label\n",
    "import calendar"
   ]
  },
  {
   "attachments": {},
   "cell_type": "markdown",
   "metadata": {},
   "source": [
    "Let's begin with requesting the web from the site with `get` method."
   ]
  },
  {
   "cell_type": "code",
   "execution_count": 4,
   "metadata": {},
   "outputs": [
    {
     "data": {
      "text/plain": [
       "<Response [200]>"
      ]
     },
     "execution_count": 4,
     "metadata": {},
     "output_type": "execute_result"
    }
   ],
   "source": [
    "url = \"https://www.kalibrr.id/job-board/te/data/co/Indonesia/1\"\n",
    "url_get = requests.get(url)\n",
    "url_get"
   ]
  },
  {
   "attachments": {},
   "cell_type": "markdown",
   "metadata": {},
   "source": [
    "Hasil <Response [200]> menunjukkan bahwa permintaan telah berhasil dan server telah mengembalikan data yang diminta."
   ]
  },
  {
   "attachments": {},
   "cell_type": "markdown",
   "metadata": {},
   "source": [
    "Fungsi pada BeatifulSoap yaitu find_all() dan find()\n",
    "\n",
    "- Fungsi find_all() dalam BeautifulSoup digunakan untuk mengekstrak daftar semua elemen yang cocok dengan kriteria tertentu dari dokumen HTML atau XML yang telah diparsing.\n",
    "\n",
    "- Fungsi find() pada BeautifulSoup digunakan untuk menemukan elemen pertama yang cocok dengan kriteria pencarian tertentu dalam dokumen HTML atau XML yang sudah diparsing. Jika elemen yang cocok ditemukan, fungsi find() akan mengembalikan objek BeautifulSoup yang merepresentasikan elemen tersebut."
   ]
  },
  {
   "cell_type": "code",
   "execution_count": 5,
   "metadata": {},
   "outputs": [],
   "source": [
    "def findAll(page_no) :\n",
    "    url = \"https://www.kalibrr.id/job-board/te/data/co/Indonesia/\"\n",
    "    pageFilter = \"?sort=Freshness\"\n",
    "\n",
    "    url_get = requests.get(url+str(page_no))\n",
    "\n",
    "    soup = BeautifulSoup(url_get.content,\"html.parser\")\n",
    "\n",
    "    findAll = soup.find_all('div', attrs={'class':'k-grid k-border-tertiary-ghost-color k-text-sm k-p-4 md:k-p-6 css-1b4vug6'})\n",
    "    # print(len(findAll))\n",
    "    return findAll"
   ]
  },
  {
   "attachments": {},
   "cell_type": "markdown",
   "metadata": {},
   "source": [
    "Selanjutnya dibuat metode untuk cleaning text, yang bisa digunakan ulang dan menjadikan nilai yang konsisten."
   ]
  },
  {
   "cell_type": "code",
   "execution_count": 6,
   "metadata": {},
   "outputs": [],
   "source": [
    "def pre_text(pretext):\n",
    "\n",
    "    pretext = pretext.lower()\n",
    "    pretext = pretext.translate(str.maketrans('', '', string.punctuation))\n",
    "    pretext = ' '.join(pretext.split())\n",
    "    pretext = pretext.strip()\n",
    "    return pretext\n"
   ]
  },
  {
   "attachments": {},
   "cell_type": "markdown",
   "metadata": {},
   "source": [
    "Fungsi find() dapat menerima dua argumen utama yaitu nama tag HTML dan atribut yang ingin dicari, disini dibuatkan untuk menampung return list dari fungsi findAll()"
   ]
  },
  {
   "cell_type": "code",
   "execution_count": 7,
   "metadata": {},
   "outputs": [],
   "source": [
    "def find(job) :\n",
    "\n",
    "    job_company = job.select_one('div.k-col-start-3.k-row-start-3 a')\n",
    "    if job_company is not None :\n",
    "        # print('Company :',job_company.text.strip())\n",
    "        job_company = pre_text(job_company.text)\n",
    "\n",
    "    # for job_titles :\n",
    "    job_title = job.select_one('div.k-col-start-3.k-row-start-1 h2 a')\n",
    "    if job_title is not None:\n",
    "        # print('Position :',job_title.text.strip())\n",
    "        job_title = pre_text(job_title.text)\n",
    "\n",
    "    # for job_locations :\n",
    "    job_location = job.select_one('div.k-col-start-3.k-row-start-3 a.k-text-subdued.k-block')\n",
    "    if job_location is not None :\n",
    "        job_location = job_location.text.replace('\\n', \"\").replace(',', '').strip()\n",
    "        \n",
    "        job_location = re.sub(r\"\\b(?:Indonesia|City|Kota|Kabupaten|Regency)\\b\", \"\", job_location, flags=re.IGNORECASE).strip()\n",
    "        # print('Location :',job_location)\n",
    "    \n",
    "    # for date info     \n",
    "    posted_info = job.select_one('div.k-col-start-5.k-row-start-1 span:first-of-type')\n",
    "    if posted_info is not None :\n",
    "        posted_info = posted_info.text.strip()\n",
    "        published_at, application_deadline = posted_info.split(\"• Apply before\")\n",
    "        published_at = published_at.replace('ago', '').replace('Posted', '').strip()\n",
    "        application_deadline = application_deadline.strip()\n",
    "\n",
    "    job_data = [job_company, job_title, job_location, published_at, application_deadline]\n",
    "    return job_data\n"
   ]
  },
  {
   "attachments": {},
   "cell_type": "markdown",
   "metadata": {},
   "source": [
    "Fungsi save_file() merupakan fungsi yang dibuat dari kombinasi fungsi findAll() dan find() dimana fungsi findAll() extract list element dan di looping satu persatu melalui fungsi find() dilanjutkan dengan memasukan setiap baris kedalam file csv"
   ]
  },
  {
   "cell_type": "code",
   "execution_count": 8,
   "metadata": {},
   "outputs": [],
   "source": [
    "def save_file() :\n",
    "    i = 0\n",
    "\n",
    "    job_desc = findAll(page_no=page)\n",
    "    # print(\"Total Save :\",len(job_desc))\n",
    "\n",
    "    for job in job_desc :\n",
    "        i = i + 1\n",
    "        job_info = find(job)\n",
    "        csv.write(job_info[0]+ ',' + job_info[1] + ',' + job_info[2] + ',' + job_info[3] + \",\" + job_info[4]+ '\\n')\n",
    "        # print(\"save\",i)\n"
   ]
  },
  {
   "attachments": {},
   "cell_type": "markdown",
   "metadata": {},
   "source": [
    "setelah beberapa fungsi sudah dibuat, dilanjutkan dengan membuka file dengan fungsi open() file csv dan ditutup dengan fungsi close().\n",
    "Disini bisa ditentukan berapa page yang akan diambil di website kalibrr.id"
   ]
  },
  {
   "cell_type": "code",
   "execution_count": 9,
   "metadata": {},
   "outputs": [
    {
     "name": "stdout",
     "output_type": "stream",
     "text": [
      "Page : 1\n",
      "Page : 2\n",
      "Page : 3\n",
      "Page : 4\n",
      "Page : 5\n",
      "Page : 6\n",
      "Page : 7\n",
      "Page : 8\n",
      "Page : 9\n",
      "Page : 10\n",
      "Page : 11\n",
      "Page : 12\n",
      "Page : 13\n",
      "Page : 14\n",
      "Page : 15\n",
      "Page : 16\n",
      "Page : 17\n",
      "Page : 18\n",
      "Page : 19\n",
      "Page : 20\n",
      "Page : 21\n",
      "Page : 22\n",
      "Page : 23\n",
      "Page : 24\n",
      "Page : 25\n",
      "Page : 26\n",
      "Page : 27\n",
      "Page : 28\n",
      "Scraping is successful !!\n"
     ]
    }
   ],
   "source": [
    "csv=open(\"db_kalibrr.csv\", 'w')\n",
    "headers = \"Company,Title,Location,Published_At,Application_Deadline\\n\"\n",
    "csv.write(headers)\n",
    "\n",
    "\n",
    "for page in range(1,29):\n",
    "\n",
    "    print('Page :',page)\n",
    "\n",
    "    save_file()\n",
    "\n",
    "print('Scraping is successful !!')\n",
    "\n",
    "csv.close()"
   ]
  },
  {
   "attachments": {},
   "cell_type": "markdown",
   "metadata": {},
   "source": [
    "# Data Pre-Processing\n",
    "\n",
    "Setelah kita memiliki dataset yang didapatkan melalui proses webscrapping, selanjutnya dilakukan inpeksi data dengan mebuat objek dataframe pandas dari dataset file csv yang didapatkan dari hasil scraping."
   ]
  },
  {
   "cell_type": "code",
   "execution_count": 10,
   "metadata": {},
   "outputs": [],
   "source": [
    "df = pd.read_csv('db_kalibrr.csv')"
   ]
  },
  {
   "attachments": {},
   "cell_type": "markdown",
   "metadata": {},
   "source": [
    "lakukan pengecekan struktur data hasil dari scrapping."
   ]
  },
  {
   "cell_type": "code",
   "execution_count": 11,
   "metadata": {},
   "outputs": [
    {
     "name": "stdout",
     "output_type": "stream",
     "text": [
      "<class 'pandas.core.frame.DataFrame'>\n",
      "RangeIndex: 406 entries, 0 to 405\n",
      "Data columns (total 5 columns):\n",
      " #   Column                Non-Null Count  Dtype \n",
      "---  ------                --------------  ----- \n",
      " 0   Company               406 non-null    object\n",
      " 1   Title                 406 non-null    object\n",
      " 2   Location              406 non-null    object\n",
      " 3   Published_At          406 non-null    object\n",
      " 4   Application_Deadline  406 non-null    object\n",
      "dtypes: object(5)\n",
      "memory usage: 16.0+ KB\n"
     ]
    }
   ],
   "source": [
    "df.info()"
   ]
  },
  {
   "attachments": {},
   "cell_type": "markdown",
   "metadata": {},
   "source": [
    "\n",
    "- Terdapat 225 Baris dari 15 Page yang di scrapping\n",
    "- Terdapat 5 Kolom dimana setiap kolom tipe datanya adalah objek string"
   ]
  },
  {
   "attachments": {},
   "cell_type": "markdown",
   "metadata": {},
   "source": [
    "Selanjutnya dilakukan inspeksi apakah ada data duplicate"
   ]
  },
  {
   "cell_type": "code",
   "execution_count": 12,
   "metadata": {},
   "outputs": [
    {
     "data": {
      "text/plain": [
       "False    307\n",
       "True      99\n",
       "Name: count, dtype: int64"
      ]
     },
     "execution_count": 12,
     "metadata": {},
     "output_type": "execute_result"
    }
   ],
   "source": [
    "df.duplicated().value_counts()"
   ]
  },
  {
   "attachments": {},
   "cell_type": "markdown",
   "metadata": {},
   "source": [
    "Jika terdapat Nilai true maka menunjukan total dari baris yang memiliki nilai duplicate, maka perlu dilakukan penyesuai terhadap data duplicate tersebut."
   ]
  },
  {
   "cell_type": "code",
   "execution_count": 13,
   "metadata": {},
   "outputs": [
    {
     "data": {
      "text/plain": [
       "False    307\n",
       "Name: count, dtype: int64"
      ]
     },
     "execution_count": 13,
     "metadata": {},
     "output_type": "execute_result"
    }
   ],
   "source": [
    "df.drop_duplicates(inplace=True)\n",
    "df.duplicated().value_counts()"
   ]
  },
  {
   "attachments": {},
   "cell_type": "markdown",
   "metadata": {},
   "source": [
    "Pastikan hasil penyesuaian tidak ada data yang duplicated, hasil dari penyesuaian diatas hanya menunjukan nilai False yang artinya tidak ada data duplicate. selanjutnya dilakukan pengecekan, apakah terdapat nilai yang kosong/null pada dataframe."
   ]
  },
  {
   "cell_type": "code",
   "execution_count": 14,
   "metadata": {},
   "outputs": [
    {
     "data": {
      "text/plain": [
       "Company                 0\n",
       "Title                   0\n",
       "Location                0\n",
       "Published_At            0\n",
       "Application_Deadline    0\n",
       "dtype: int64"
      ]
     },
     "execution_count": 14,
     "metadata": {},
     "output_type": "execute_result"
    }
   ],
   "source": [
    "df.isna().sum()"
   ]
  },
  {
   "attachments": {},
   "cell_type": "markdown",
   "metadata": {},
   "source": [
    "Terlihat dari hasil diatas, menunjukan tidak terdapat nilai null pada setiap kolom di objek dataframe"
   ]
  },
  {
   "attachments": {},
   "cell_type": "markdown",
   "metadata": {},
   "source": [
    "# Data Wrangling"
   ]
  },
  {
   "attachments": {},
   "cell_type": "markdown",
   "metadata": {},
   "source": [
    "Proses wrangling atau data wrangling adalah proses transformasi dan pembersihan data mentah (raw data) menjadi format yang lebih terstruktur dan siap digunakan untuk analisis data lebih lanjut."
   ]
  },
  {
   "attachments": {},
   "cell_type": "markdown",
   "metadata": {},
   "source": [
    "### Data Location\n",
    "Pada kolom location, tersimpan data lokasi tempat perkejaan diposting pada website www.kalibrr.id, selanjutnya akan dilakukan suatu analis guna mendapatkan insight bedasarkan lokasi perkerjaan, sebelumnya kita lihat nilai-nilai unik yang terdapat pada kolom \"Location\""
   ]
  },
  {
   "cell_type": "code",
   "execution_count": 15,
   "metadata": {},
   "outputs": [
    {
     "data": {
      "text/plain": [
       "array(['Jakarta', 'Jakarta Barat', 'Tangerang', 'Central Jakarta',\n",
       "       'North Jakarta', 'South Tangerang', 'South Jakarta',\n",
       "       'Jakarta Selatan', 'Denpasar', 'East Jakarta', 'Surabaya',\n",
       "       'Yogyakarta', 'Jakarta Pusat', 'Bandung', 'Mojokerto',\n",
       "       'Jakarta Timur', 'Tangerang Selatan', 'West Jakarta', 'Makassar',\n",
       "       'Surakarta', 'Bekasi', 'Bogor', 'Badung', 'Central Lampung',\n",
       "       'Blitar', 'Balikpapan', 'Jakarta Utara', 'Sumbawa', 'Karawang',\n",
       "       'Sleman', 'Semarang', 'Salatiga', 'Kediri', 'Pontianak',\n",
       "       'Pekalongan', 'Samarinda', 'Bulungan', 'Sidoarjo', 'Berau'],\n",
       "      dtype=object)"
      ]
     },
     "execution_count": 15,
     "metadata": {},
     "output_type": "execute_result"
    }
   ],
   "source": [
    "df['Location'].unique()"
   ]
  },
  {
   "attachments": {},
   "cell_type": "markdown",
   "metadata": {},
   "source": [
    "karena kita hanya ingin melihat lowongan perkerjaan yang terdapat di indonesia saja, maka perlu dilakukan penyesuaian data yaitu selain negara indonesia akan dihapus. (Jika ada tidak ada, skip bagian ini)"
   ]
  },
  {
   "cell_type": "code",
   "execution_count": 16,
   "metadata": {},
   "outputs": [
    {
     "data": {
      "text/plain": [
       "array(['Jakarta', 'Jakarta Barat', 'Tangerang', 'Central Jakarta',\n",
       "       'North Jakarta', 'South Tangerang', 'South Jakarta',\n",
       "       'Jakarta Selatan', 'Denpasar', 'East Jakarta', 'Surabaya',\n",
       "       'Yogyakarta', 'Jakarta Pusat', 'Bandung', 'Mojokerto',\n",
       "       'Jakarta Timur', 'Tangerang Selatan', 'West Jakarta', 'Makassar',\n",
       "       'Surakarta', 'Bekasi', 'Bogor', 'Badung', 'Central Lampung',\n",
       "       'Blitar', 'Balikpapan', 'Jakarta Utara', 'Sumbawa', 'Karawang',\n",
       "       'Sleman', 'Semarang', 'Salatiga', 'Kediri', 'Pontianak',\n",
       "       'Pekalongan', 'Samarinda', 'Bulungan', 'Sidoarjo', 'Berau'],\n",
       "      dtype=object)"
      ]
     },
     "execution_count": 16,
     "metadata": {},
     "output_type": "execute_result"
    }
   ],
   "source": [
    "df = df[~df['Location'].str.contains('Philippines')]\n",
    "df['Location'].unique()"
   ]
  },
  {
   "attachments": {},
   "cell_type": "markdown",
   "metadata": {},
   "source": [
    "Terlihat terdapat inkonsitensi nilai pada nama kota maka diperlukan berberapa proses cleaning text dimana output yang diharapkan akan menghasilkan nama kota/city, misalnya jakarta pusat,jakarta timur dll akan digabungkan menjadi 1 kata yaitu \"Jakarta\" dan juga akan dilakukan proses yang sama dikota-kota yang terdapat nilai inkonsistensi pada kolom \"Location\"."
   ]
  },
  {
   "cell_type": "code",
   "execution_count": 17,
   "metadata": {},
   "outputs": [
    {
     "data": {
      "text/plain": [
       "Location\n",
       "Jakarta       213\n",
       "Tangerang      50\n",
       "Bandung         5\n",
       "Denpasar        4\n",
       "Yogyakarta      3\n",
       "Surabaya        3\n",
       "Bogor           3\n",
       "Semarang        3\n",
       "Pontianak       2\n",
       "Blitar          2\n",
       "Makassar        2\n",
       "Sumbawa         2\n",
       "Pekalongan      1\n",
       "Mojokerto       1\n",
       "Salatiga        1\n",
       "Lampung         1\n",
       "Kediri          1\n",
       "Karawang        1\n",
       "Samarinda       1\n",
       "Sidoarjo        1\n",
       "Bulungan        1\n",
       "Sleman          1\n",
       "Berau           1\n",
       "Bekasi          1\n",
       "Surakarta       1\n",
       "Balikpapan      1\n",
       "Badung          1\n",
       "Name: count, dtype: int64"
      ]
     },
     "execution_count": 17,
     "metadata": {},
     "output_type": "execute_result"
    }
   ],
   "source": [
    "\n",
    "\n",
    "df_1 = df.copy()\n",
    "\n",
    "# Replace values in 'Location' column with 'Jakarta' if they match any value in 'kota_ubah' for Jakarta\n",
    "kota_ubah_jkt = df_1[df_1['Location'].str.contains('jakarta', case=False)]\n",
    "replace_dict_jkt = {k: 'Jakarta' for k in kota_ubah_jkt['Location'].unique()}\n",
    "df_1['Location'] = df_1['Location'].replace(replace_dict_jkt)\n",
    "\n",
    "# Replace values in 'Location' column with 'Tangerang' if they match any value in 'kota_ubah' for Tangerang\n",
    "kota_ubah_tgr = df_1[df_1['Location'].str.contains('tangerang', case=False)]\n",
    "replace_dict_tgr = {k: 'Tangerang' for k in kota_ubah_tgr['Location'].unique()}\n",
    "df_1['Location'] = df_1['Location'].replace(replace_dict_tgr)\n",
    "\n",
    "# Replace values in 'Location' column with 'Tangerang' if they match any value in 'kota_ubah' for Tangerang\n",
    "kota_ubah_tgr = df_1[df_1['Location'].str.contains('Lampung', case=False)]\n",
    "replace_dict_tgr = {k: 'Lampung' for k in kota_ubah_tgr['Location'].unique()}\n",
    "df_1['Location'] = df_1['Location'].replace(replace_dict_tgr)\n",
    "\n",
    "# Sort and count the values in the 'Location' column\n",
    "city_dict = df_1['Location'].sort_values(ascending=False).value_counts()\n",
    "\n",
    "city_dict\n",
    "\n"
   ]
  },
  {
   "attachments": {},
   "cell_type": "markdown",
   "metadata": {},
   "source": [
    "Terlihat pada hasil cleaning text, Objeck series menunjukan hasil nilai yang konsisten yaitu berupa nama kota pada kolom lokasi. Dikarenakan ditemukan nilai yang berulang dan untuk mengoptimalkan penggunaan memory, pada kolom lokasi akan dirubah tipe datanya menjadi category."
   ]
  },
  {
   "cell_type": "code",
   "execution_count": 18,
   "metadata": {},
   "outputs": [
    {
     "data": {
      "text/plain": [
       "Company                 object\n",
       "Title                   object\n",
       "Location                object\n",
       "Published_At            object\n",
       "Application_Deadline    object\n",
       "dtype: object"
      ]
     },
     "execution_count": 18,
     "metadata": {},
     "output_type": "execute_result"
    }
   ],
   "source": [
    "df_1.dtypes"
   ]
  },
  {
   "cell_type": "code",
   "execution_count": 19,
   "metadata": {},
   "outputs": [
    {
     "data": {
      "text/plain": [
       "Company                   object\n",
       "Title                     object\n",
       "Location                category\n",
       "Published_At              object\n",
       "Application_Deadline      object\n",
       "dtype: object"
      ]
     },
     "execution_count": 19,
     "metadata": {},
     "output_type": "execute_result"
    }
   ],
   "source": [
    "df_1['Location'] = df_1['Location'].astype('category')\n",
    "df_1.dtypes"
   ]
  },
  {
   "attachments": {},
   "cell_type": "markdown",
   "metadata": {},
   "source": [
    "Prose convert tipe data dari objeck string ke category sudah berhasil, Selanjutnya kita lihat nilai unik pada kolom 'Published_At'."
   ]
  },
  {
   "attachments": {},
   "cell_type": "markdown",
   "metadata": {},
   "source": [
    "### Data Publish\n",
    "\n",
    "Data publish tersimpan pada kolom \"Published_At\" yang memiliki informasi sejak kapan info lowongan perkerjaan di publish/ di posting di website www.kalibrr.id. mari kita lihat nilai unik yang terdapat pada kolom \"Published_At\""
   ]
  },
  {
   "cell_type": "code",
   "execution_count": 20,
   "metadata": {},
   "outputs": [
    {
     "data": {
      "text/plain": [
       "array(['4 days', '9 days', '10 days', 'a month', '8 days', '2 days',\n",
       "       'a day', '2 months', '7 days', '3 days', '4 hours', '17 days',\n",
       "       '16 days', '15 days', '24 days', '25 days', '14 days', '3 months',\n",
       "       '4 months', '9 hours', '6 hours', '6 months', '5 months',\n",
       "       '22 days', '8 months', '10 months', '9 months', '5 hours',\n",
       "       '23 days', '3 hours'], dtype=object)"
      ]
     },
     "execution_count": 20,
     "metadata": {},
     "output_type": "execute_result"
    }
   ],
   "source": [
    "df_1['Published_At'].unique()"
   ]
  },
  {
   "attachments": {},
   "cell_type": "markdown",
   "metadata": {},
   "source": [
    "kolom 'Published_At' memberikan informasi SEJAK kapan lowongan perkerjaan diposting namun bukan memberikan informasi waktu yang lengkap, kapan tepatnya tanggal lowongan perkejaan itu diposting maka diperlukan kolom baru dengan nama \"Posted_Date\" yang berisikan tanggal lowongan perkerjaan diposting. Disini akan memanfaatkan pandas timedelta untuk mendapatkan tanggal yang diinginkan berdasarkan parameter kolom 'Published_At'"
   ]
  },
  {
   "cell_type": "code",
   "execution_count": 21,
   "metadata": {},
   "outputs": [],
   "source": [
    "# fungsi untuk mengubah nilai menjadi timedelta jika dapat diubah\n",
    "def to_timedelta(val):\n",
    "    try:\n",
    "        return pd.Timedelta(val)\n",
    "    except:\n",
    "        pass\n",
    "    try:\n",
    "        if 'years' in val:\n",
    "            val = val.replace('years', '').strip()\n",
    "            return int(val) * pd.Timedelta(days=365)\n",
    "        if 'year' in val:\n",
    "            val = val.replace('year', '').strip()\n",
    "            return int(val) * pd.Timedelta(days=365)\n",
    "        if 'months' in val:\n",
    "            val = val.replace('months', '').strip()\n",
    "            return int(val) * pd.Timedelta(days=30)\n",
    "        if 'days' in val:\n",
    "            val = val.replace('days', '').strip()\n",
    "            return pd.Timedelta(days=int(val))\n",
    "        if 'month' in val:\n",
    "            return pd.Timedelta(days=30)\n",
    "        if 'day' in val:\n",
    "            return pd.Timedelta(days=1)\n",
    "        # if 'hours' in val:\n",
    "        #     return pd.Timedelta(days=1)\n",
    "        if 'minute' in val:\n",
    "            val = val.replace('minute', '').strip()\n",
    "            return pd.Timedelta(minutes=int(val))\n",
    "        if 'minutes' in val:\n",
    "            val = val.replace('minutes', '').strip()\n",
    "            return pd.Timedelta(minutes=int(val))\n",
    "        if 'hour' in val:\n",
    "            val = val.replace('an', '1').replace('hour', '').strip()\n",
    "            return pd.Timedelta(minutes=int(val))\n",
    "        if 'hours' in val:\n",
    "            val = val.replace('hours', '').strip()\n",
    "            return pd.Timedelta(minutes=int(val))\n",
    "    except:\n",
    "        pass\n",
    "    return np.nan\n",
    "\n",
    "now = pd.Timestamp.now()\n",
    "# konversi kolom posted_date menjadi timedelta\n",
    "df_1['Posted_Date'] = df_1['Published_At'].apply(to_timedelta)\n",
    "df_1['Posted_Date'] = now - df_1['Posted_Date']\n",
    "df_1['Posted_Date'] = df_1['Posted_Date'].apply(lambda x: x.strftime('%d-%m-%Y'))\n",
    "df_1['Posted_Date'] = pd.to_datetime(df_1['Posted_Date'], format='%d-%m-%Y')\n"
   ]
  },
  {
   "attachments": {},
   "cell_type": "markdown",
   "metadata": {},
   "source": [
    "Setelah pembuatan tanggal posting, selanjutnya dilakukan peninjauan dan pernyortiran data."
   ]
  },
  {
   "cell_type": "code",
   "execution_count": 22,
   "metadata": {},
   "outputs": [
    {
     "data": {
      "text/plain": [
       "Published_At  Posted_Date\n",
       "10 months     2022-07-16      3\n",
       "9 months      2022-08-15      1\n",
       "8 months      2022-09-14      4\n",
       "6 months      2022-11-13      2\n",
       "5 months      2022-12-13      4\n",
       "4 months      2023-01-12     10\n",
       "3 months      2023-02-11     12\n",
       "2 months      2023-03-13     37\n",
       "a month       2023-04-12     78\n",
       "25 days       2023-04-17     10\n",
       "24 days       2023-04-18     11\n",
       "23 days       2023-04-19      1\n",
       "22 days       2023-04-20      2\n",
       "17 days       2023-04-25      7\n",
       "16 days       2023-04-26      5\n",
       "15 days       2023-04-27      9\n",
       "14 days       2023-04-28      3\n",
       "10 days       2023-05-02     18\n",
       "9 days        2023-05-03      6\n",
       "8 days        2023-05-04      8\n",
       "7 days        2023-05-05     10\n",
       "4 days        2023-05-08     17\n",
       "3 days        2023-05-09     13\n",
       "2 days        2023-05-10     13\n",
       "a day         2023-05-11     14\n",
       "3 hours       2023-05-12      1\n",
       "4 hours       2023-05-12      2\n",
       "5 hours       2023-05-12      2\n",
       "6 hours       2023-05-12      1\n",
       "9 hours       2023-05-12      3\n",
       "Name: count, dtype: int64"
      ]
     },
     "execution_count": 22,
     "metadata": {},
     "output_type": "execute_result"
    }
   ],
   "source": [
    "get_post = df_1[['Published_At', 'Posted_Date']].value_counts()\n",
    "sorted_get_post = get_post.sort_index(level=['Posted_Date'], ascending=True)\n",
    "sorted_get_post"
   ]
  },
  {
   "attachments": {},
   "cell_type": "markdown",
   "metadata": {},
   "source": [
    "Karena kita hanya ingin melihat data posting pada tahun 2023 maka diperlukan penyesuaian terhadap tahun 2022 agar tidak ditampilkan"
   ]
  },
  {
   "cell_type": "code",
   "execution_count": 23,
   "metadata": {},
   "outputs": [
    {
     "data": {
      "text/plain": [
       "Posted_Date\n",
       "2023-01-12    10\n",
       "2023-02-11    12\n",
       "2023-03-13    37\n",
       "2023-04-12    78\n",
       "2023-04-17    10\n",
       "2023-04-18    11\n",
       "2023-04-19     1\n",
       "2023-04-20     2\n",
       "2023-04-25     7\n",
       "2023-04-26     5\n",
       "2023-04-27     9\n",
       "2023-04-28     3\n",
       "2023-05-02    18\n",
       "2023-05-03     6\n",
       "2023-05-04     8\n",
       "2023-05-05    10\n",
       "2023-05-08    17\n",
       "2023-05-09    13\n",
       "2023-05-10    13\n",
       "2023-05-11    14\n",
       "2023-05-12     9\n",
       "Name: count, dtype: int64"
      ]
     },
     "execution_count": 23,
     "metadata": {},
     "output_type": "execute_result"
    }
   ],
   "source": [
    "# Filter data dengan tahun 2023 pada kolom 'Posted_Date'\n",
    "df_1 = df_1[df_1['Posted_Date'].dt.year == 2023]\n",
    "df_1['Posted_Date'].value_counts().sort_index(level=['Posted_Date'], ascending=True)"
   ]
  },
  {
   "attachments": {},
   "cell_type": "markdown",
   "metadata": {},
   "source": [
    "Untuk dapat melihat data spesifik untuk data per-bulan maka diperlukan kolom yang hanya menampung nama dari bulan. dibuatkan kolom \"publish_month\" yang menampung partisi nama bulan."
   ]
  },
  {
   "cell_type": "code",
   "execution_count": 24,
   "metadata": {},
   "outputs": [
    {
     "data": {
      "text/plain": [
       "publish_month\n",
       "April       126\n",
       "February     12\n",
       "January      10\n",
       "March        37\n",
       "May         108\n",
       "Name: count, dtype: int64"
      ]
     },
     "execution_count": 24,
     "metadata": {},
     "output_type": "execute_result"
    }
   ],
   "source": [
    "df_1['publish_month'] = df_1['Posted_Date'].dt.month_name()\n",
    "df_1['publish_month'].value_counts().sort_index(level=['publish_month'], ascending=True)"
   ]
  },
  {
   "attachments": {},
   "cell_type": "markdown",
   "metadata": {},
   "source": [
    "### Data Batas Submit Lamaran"
   ]
  },
  {
   "attachments": {},
   "cell_type": "markdown",
   "metadata": {},
   "source": [
    "Informasi data batas penyerahan/submit lamaran pekerjaan disimpan dalam kolom \"Appliction_Dateline\". Untuk kolom \"Application_Deadline\" memiliki kasus yang sama yaitu tidak menyediakan informasi tanggal yang tepat kapan batas waktu penyerahan lamaran. maka diperlukan kolom baru \"Deadline_Date untuk menampung tanggal batas waktu terakhir penyerahan lamaran pekerjaan."
   ]
  },
  {
   "cell_type": "code",
   "execution_count": 25,
   "metadata": {},
   "outputs": [
    {
     "data": {
      "text/plain": [
       "array(['19 May', '30 May', '4 Jun', '1 Jul', '29 Jun', '30 Jul', '9 Jun',\n",
       "       '29 Jul', '14 May', '3 Jul', '27 May', '11 Dec', '25 May',\n",
       "       '29 May', '23 May', '30 Dec', '25 Apr', '9 Jul', '8 Dec', '7 Jul',\n",
       "       '30 Jun', '10 Jul', '6 Jul', '24 Nov', '1 Oct', '15 Jun', '20 Sep',\n",
       "       '16 May', '30 Aug', '12 Jun', '7 Aug', '29 Sep', '12 May',\n",
       "       '29 Dec', '18 Jun', '3 Oct', '12 Dec', '2 Jul', '10 Jun', '29 Aug',\n",
       "       '21 May', '26 May', '18 Aug', '9 Nov', '24 Aug', '24 May',\n",
       "       '11 Jun', '19 Sep', '17 May', '15 May', '19 Jun', '16 Jun',\n",
       "       '7 Dec', '26 Jun', '8 Jun', '15 Dec', '1 Jun', '28 Jun', '25 Jun',\n",
       "       '27 Dec', '24 Dec', '26 Oct', '9 Aug', '14 Jun', '9 Dec', '8 Jul',\n",
       "       '3 Jun', '22 May', '17 Mar', '20 May', '24 Jun', '6 Jun', '13 May',\n",
       "       '18 May', '31 May', '11 Aug', '6 Apr', '28 May', '30 Jan',\n",
       "       '13 Jun', '27 Jun', '14 Jul'], dtype=object)"
      ]
     },
     "execution_count": 25,
     "metadata": {},
     "output_type": "execute_result"
    }
   ],
   "source": [
    "df_1['Application_Deadline'].unique()"
   ]
  },
  {
   "attachments": {},
   "cell_type": "markdown",
   "metadata": {},
   "source": [
    "untuk mendapatkan tanggal yang diinginkan, perlu penyesuaian nama bulan dan diberikan tahun sehingga menjadikan info lengkap tentang tanggal berapa batas terakhir submit lamaran"
   ]
  },
  {
   "cell_type": "code",
   "execution_count": 26,
   "metadata": {},
   "outputs": [],
   "source": [
    "month_dict = {\n",
    "    'Jan': 'January',\n",
    "    'Feb': 'February',\n",
    "    'Mar': 'March',\n",
    "    'Apr': 'April',\n",
    "    'May': 'May',\n",
    "    'Jun': 'June',\n",
    "    'Jul': 'July',\n",
    "    'Aug': 'August',\n",
    "    'Sep': 'September',\n",
    "    'Oct': 'October',\n",
    "    'Nov': 'November',\n",
    "    'Dec': 'December'\n",
    "}\n",
    "df_1['Application_Deadline'] = df_1['Application_Deadline'].apply(lambda x: ' '.join([month_dict[i] if i in month_dict else i for i in x.split()]))\n",
    "df_1['Deadline_Date'] = df_1['Application_Deadline'].apply(lambda x: x + ' 2023')\n",
    "df_1['Deadline_Date'] = pd.to_datetime(df_1['Deadline_Date'], format='%d %B %Y')"
   ]
  },
  {
   "cell_type": "code",
   "execution_count": 27,
   "metadata": {},
   "outputs": [
    {
     "data": {
      "text/html": [
       "<div>\n",
       "<style scoped>\n",
       "    .dataframe tbody tr th:only-of-type {\n",
       "        vertical-align: middle;\n",
       "    }\n",
       "\n",
       "    .dataframe tbody tr th {\n",
       "        vertical-align: top;\n",
       "    }\n",
       "\n",
       "    .dataframe thead th {\n",
       "        text-align: right;\n",
       "    }\n",
       "</style>\n",
       "<table border=\"1\" class=\"dataframe\">\n",
       "  <thead>\n",
       "    <tr style=\"text-align: right;\">\n",
       "      <th></th>\n",
       "      <th>Company</th>\n",
       "      <th>Posted_Date</th>\n",
       "      <th>Application_Deadline</th>\n",
       "      <th>Deadline_Date</th>\n",
       "    </tr>\n",
       "  </thead>\n",
       "  <tbody>\n",
       "    <tr>\n",
       "      <th>191</th>\n",
       "      <td>investree</td>\n",
       "      <td>2023-03-13</td>\n",
       "      <td>17 March</td>\n",
       "      <td>2023-03-17</td>\n",
       "    </tr>\n",
       "    <tr>\n",
       "      <th>376</th>\n",
       "      <td>dans multi pro</td>\n",
       "      <td>2023-03-13</td>\n",
       "      <td>17 March</td>\n",
       "      <td>2023-03-17</td>\n",
       "    </tr>\n",
       "  </tbody>\n",
       "</table>\n",
       "</div>"
      ],
      "text/plain": [
       "            Company Posted_Date Application_Deadline Deadline_Date\n",
       "191       investree  2023-03-13             17 March    2023-03-17\n",
       "376  dans multi pro  2023-03-13             17 March    2023-03-17"
      ]
     },
     "execution_count": 27,
     "metadata": {},
     "output_type": "execute_result"
    }
   ],
   "source": [
    "df_1[df_1['Deadline_Date'].dt.month == 3][['Company','Posted_Date','Application_Deadline','Deadline_Date']]"
   ]
  },
  {
   "attachments": {},
   "cell_type": "markdown",
   "metadata": {},
   "source": [
    "Dibuatkan juga kolom baru yang berisi nama bulan hasil dari \"Deadline_Date\"."
   ]
  },
  {
   "cell_type": "code",
   "execution_count": 28,
   "metadata": {},
   "outputs": [
    {
     "data": {
      "text/plain": [
       "deadline_month\n",
       "April         3\n",
       "August       12\n",
       "December     28\n",
       "January       1\n",
       "July         55\n",
       "June         91\n",
       "March         2\n",
       "May          92\n",
       "November      2\n",
       "October       3\n",
       "September     4\n",
       "Name: count, dtype: int64"
      ]
     },
     "execution_count": 28,
     "metadata": {},
     "output_type": "execute_result"
    }
   ],
   "source": [
    "df_1['deadline_month'] = df_1['Deadline_Date'].dt.month_name()\n",
    "df_1['deadline_month'].value_counts().sort_index(level=['deadline_month'], ascending=True)"
   ]
  },
  {
   "cell_type": "code",
   "execution_count": 29,
   "metadata": {},
   "outputs": [
    {
     "name": "stdout",
     "output_type": "stream",
     "text": [
      "<class 'pandas.core.frame.DataFrame'>\n",
      "Index: 293 entries, 0 to 405\n",
      "Data columns (total 9 columns):\n",
      " #   Column                Non-Null Count  Dtype         \n",
      "---  ------                --------------  -----         \n",
      " 0   Company               293 non-null    object        \n",
      " 1   Title                 293 non-null    object        \n",
      " 2   Location              293 non-null    category      \n",
      " 3   Published_At          293 non-null    object        \n",
      " 4   Application_Deadline  293 non-null    object        \n",
      " 5   Posted_Date           293 non-null    datetime64[ns]\n",
      " 6   publish_month         293 non-null    object        \n",
      " 7   Deadline_Date         293 non-null    datetime64[ns]\n",
      " 8   deadline_month        293 non-null    object        \n",
      "dtypes: category(1), datetime64[ns](2), object(6)\n",
      "memory usage: 22.1+ KB\n"
     ]
    }
   ],
   "source": [
    "df_1.info()"
   ]
  },
  {
   "attachments": {},
   "cell_type": "markdown",
   "metadata": {},
   "source": [
    "# Data Visualization & Analysis"
   ]
  },
  {
   "attachments": {},
   "cell_type": "markdown",
   "metadata": {},
   "source": [
    "### 1. Top 5 Lokasi Pekerjaan dalam bidang \"Data\"\n",
    "\n",
    "Pada tahap ini, dibuatkan visualisasi untuk 5 Kota yang memiliki frekuensi terbesar untuk penempatan pekerja di bidang kategori Data pada website kalibrr.id."
   ]
  },
  {
   "cell_type": "code",
   "execution_count": 30,
   "metadata": {},
   "outputs": [
    {
     "data": {
      "image/png": "[encoded data removed]",
      "text/plain": [
       "<Figure size 640x480 with 1 Axes>"
      ]
     },
     "metadata": {},
     "output_type": "display_data"
    },
    {
     "data": {
      "text/plain": [
       "<Figure size 1000x600 with 0 Axes>"
      ]
     },
     "metadata": {},
     "output_type": "display_data"
    }
   ],
   "source": [
    "city_dict\n",
    "city_dict = city_dict.head()\n",
    "# menyesuaikan margin pada sumbu x\n",
    "plt.subplots_adjust(bottom=0.2)\n",
    "# menambahkan jarak pada label sumbu x\n",
    "plt.xticks(rotation=45, ha='right')\n",
    "# membuat diagram batang\n",
    "colors = ['#264653', '#2a9d8f', '#e9c46a', '#f4a261', '#e76f51']\n",
    "plt.bar(city_dict.index, city_dict.values, color=colors)\n",
    "# menambahkan angka hasil data ke diagram\n",
    "for x, y in zip(city_dict.index, city_dict.values):\n",
    "    plt.text(x, y, str(y), ha='center', va='bottom')\n",
    "# menambahkan label sumbu x dan y\n",
    "plt.xlabel('City')\n",
    "plt.ylabel('Count')\n",
    "# menambahkan judul diagram\n",
    "plt.title('Job Postings by City', pad=20)\n",
    "#Merubah Backrground\n",
    "plt.style.use('dark_background')\n",
    "plt.figure(facecolor='grey',figsize=(10, 6))\n",
    "# menampilkan diagram\n",
    "plt.show()"
   ]
  },
  {
   "attachments": {},
   "cell_type": "markdown",
   "metadata": {},
   "source": [
    "Bedasarkan hasil dari Diagram Top 5 Lokasi Pekerjaan dalam bidang \"Data\" diatas, maka didapatkan insight sebagai berikut :\n",
    "\n",
    "1. Untuk pekerjaan pada kategori dibidang \"Data\", Jakarta memiliki jumlah kejadian tertinggi dari semua lokasi yang terdaftar di website ww.kalibrr.id. Hal ini dapat menjadi informasi yang berguna bagi para pengambil keputusan untuk memperhatikan Jakarta secara lebih khusus.\n",
    "\n",
    "2. Tangerang merupakan lokasi kedua dengan jumlah kejadian yang signifikan, meskipun jumlahnya jauh lebih rendah dari Jakarta. Hal ini dapat menjadi perhatian bagi para pengambil keputusan di Tangerang untuk memperbaiki atau mempertahankan kondisi yang sudah baik agar tetap menarik bagi para pengusaha.\n",
    "\n",
    "3. Bandung, Surabaya, dan Bogor memiliki jumlah kejadian yang lebih sedikit dibandingkan Jakarta dan Tangerang. Namun, hal ini tidak berarti bahwa keadaan di daerah-daerah tersebut kurang penting. Karena setiap daerah memiliki keunikan dan potensi yang berbeda-beda, maka penting bagi para pengambil keputusan untuk mengidentifikasi kelebihan dan kekurangan masing-masing daerah untuk mengambil langkah yang tepat dalam mengembangkan daerah tersebut."
   ]
  },
  {
   "attachments": {},
   "cell_type": "markdown",
   "metadata": {},
   "source": [
    "### 2. Jumlah Frekuensi posting lamaran yang masih aktif\n",
    "\n",
    "Kita lihat frekuensi data perbulan yang terposting dari tanggal 01 Januari 2023 sampai dengan 12 Mei 2023 di website www.kalibrr.id."
   ]
  },
  {
   "cell_type": "code",
   "execution_count": 31,
   "metadata": {},
   "outputs": [
    {
     "data": {
      "image/png": "[encoded data removed]",
      "text/plain": [
       "<Figure size 640x480 with 1 Axes>"
      ]
     },
     "metadata": {},
     "output_type": "display_data"
    },
    {
     "data": {
      "text/plain": [
       "<Figure size 1000x600 with 0 Axes>"
      ]
     },
     "metadata": {},
     "output_type": "display_data"
    }
   ],
   "source": [
    "post_month = df_1['publish_month'].value_counts().sort_index()\n",
    "post_month = post_month.sort_values(key=lambda x: [list(calendar.month_name).index(i) for i in x.index])\n",
    "# menyesuaikan margin pada sumbu x\n",
    "plt.subplots_adjust(bottom=0.2)\n",
    "# menambahkan jarak pada label sumbu x\n",
    "plt.xticks(rotation=45, ha='right')\n",
    "# membuat diagram batang\n",
    "colors = ['#264653', '#2a9d8f', '#e9c46a', '#f4a261', '#e76f51']\n",
    "plt.bar(post_month.index, post_month.values, color=colors)\n",
    "# menambahkan angka hasil data ke diagram\n",
    "for x, y in zip(post_month.index, post_month.values):\n",
    "    plt.text(x, y, str(y), ha='center', va='bottom')\n",
    "# menambahkan label sumbu x dan y\n",
    "plt.xlabel('Month')\n",
    "plt.ylabel('Count')\n",
    "# menambahkan judul diagram\n",
    "plt.title('Job Postings by Posted_Date', pad=20)\n",
    "#Merubah Backrground\n",
    "plt.style.use('dark_background')\n",
    "plt.figure(facecolor='grey',figsize=(10, 6))\n",
    "# menampilkan diaagram\n",
    "plt.show()"
   ]
  },
  {
   "attachments": {},
   "cell_type": "markdown",
   "metadata": {},
   "source": [
    "Dari diagram terlihat bahwa bulan April memiliki jumlah postingan terbanyak dengan 121 postingan, diikuti oleh bulan Mei dengan 109 postingan, hal ini terkait dengan data yang diambil pada bulan mei hanya sampai dengan Tanggal 12 mei 2023 dimana capstone project ini dibuat. Jumlah postingan pada bulan-bulan lainnya jauh lebih sedikit, bulan Maret memiliki 37 postingan, bulan Februari dengan 11 postingan, dan bulan Januari dengan 13 postingan.\n",
    "Faktor yang mempengauhi sedikitnya frekuensi pada bulan january, february dan march dikarenakan Postingan tersebut memiliki masa batas submit lamaran yang sudah habis sehingga sudah tidak dimunculkan kembali/dihapus oleh company yang memposting di website ww.kalibrr.com."
   ]
  },
  {
   "attachments": {},
   "cell_type": "markdown",
   "metadata": {},
   "source": [
    "Selanjutnya mari kita lihat job posting yang memiliki deadline submit lamaran perkerjaan yang masih terpublish di website ww.kalibrr.id"
   ]
  },
  {
   "cell_type": "code",
   "execution_count": 34,
   "metadata": {},
   "outputs": [
    {
     "data": {
      "image/png": "[encoded data removed]",
      "text/plain": [
       "<Figure size 640x480 with 1 Axes>"
      ]
     },
     "metadata": {},
     "output_type": "display_data"
    }
   ],
   "source": [
    "import calendar\n",
    "\n",
    "deadline_month = df_1['deadline_month'].value_counts().sort_index()\n",
    "deadline_month = deadline_month.sort_values(key=lambda x: [list(calendar.month_name).index(i) for i in x.index])\n",
    "\n",
    "\n",
    "# Menambahkan bulan Januari, Februari, dan Maret dengan nilai 0\n",
    "deadline_month = deadline_month.reindex(calendar.month_name[1:], fill_value=0)\n",
    "deadline_month = deadline_month.sort_values(key=lambda x: [list(calendar.month_name).index(i) for i in x.index])\n",
    "\n",
    "\n",
    "# menyesuaikan margin pada sumbu x\n",
    "plt.subplots_adjust(bottom=0.2)\n",
    "# menambahkan jarak pada label sumbu x\n",
    "plt.xticks(rotation=45, ha='right')\n",
    "# membuat diagram garis\n",
    "plt.plot(deadline_month.index, deadline_month.values, color='#2a9d8f')\n",
    "# menambahkan angka hasil data ke diagram\n",
    "for x, y in zip(deadline_month.index, deadline_month.values):\n",
    "    plt.text(x, y, str(y), ha='center', va='bottom')\n",
    "# menambahkan label sumbu x dan y\n",
    "plt.xlabel('Month')\n",
    "plt.ylabel('Count')\n",
    "# menambahkan judul diagram\n",
    "plt.title('Job Postings by Deadline Submit', pad=20)\n",
    "\n",
    "# menampilkan diagram\n",
    "plt.show()"
   ]
  },
  {
   "attachments": {},
   "cell_type": "markdown",
   "metadata": {},
   "source": [
    "- Pada pembahasan ini dibuat, range data hasil scrapping adalah 01 Januari 2023 sd 12 Mei 2023, dapat liat lihat dari diagram line bahwa untuk dibulan yang sama dan 1 bulan kedepan masih menunjukan angka tertinggi untuk batas waktu penyerahan lamaran.\n",
    "- Untuk bulan-bulan sebelumnya menunjukan angka terendah karena terkait dengan batas penyerahan lamaran yang sudah tidak berlaku lagi sehingga sudah postingan sudah tidak muncul pada website www.kalibrr.com.\n",
    "- Hal ini berkorelasi dari insight sebelumya dari Posted_Date dimana menunjukan angka yang rendah dikarenakan postingan lowongan pekerjaan tersebut memiliki batas lamaran yang sudah kadaluarsa.\n"
   ]
  },
  {
   "attachments": {},
   "cell_type": "markdown",
   "metadata": {},
   "source": [
    "## Conclusion\n",
    "\n",
    "Bedasarkan hasil dari analisa diatas, memberikan insight Pada Perkerjaan kategori \"Data\" yaitu :\n",
    "\n",
    "1. Masih banyaknya perusahaan yang memberi pekerjaan pada kategori data yang tersedia di website www.kalibrr.id\n",
    "2. Jakarta merupakan lokasi tertinggi untuk lowongan perkejaan pada kategori \"Data\", hal ini terkait jakarta masih menjadi pusat bisnis di Indonesia\n",
    "3. Saat anda mencari perkerjaan di website www.kalibrr.id, tersedia lowongan dengan batas penyerahan lamaran untuk 1 bulan kedepan, namun anda tetap memperhatikan kecepatan dalam mengirimkan lamaran agar tidak tersaingi oleh pencari kerja lainnya. bisa saja saat anda melamar dan walapun batas lamarannya tersedia namun perusahaan sudah mendapatkan calon yang cocok untuk menempati posisi yang ada."
   ]
  },
  {
   "attachments": {},
   "cell_type": "markdown",
   "metadata": {},
   "source": [
    "## The Final Report with The Flask Dashboard\n",
    "\n",
    "Pada pembahasan hasil webscrapping, sudah diimplentasikan melalui webiste dengan memanfaatkan framework flask. Silakan merujuk pada file app.py untuk menjalankannya"
   ]
  },
  {
   "attachments": {},
   "cell_type": "markdown",
   "metadata": {},
   "source": [
    "# Terima Kasih"
   ]
  }
 ],
 "metadata": {
  "kernelspec": {
   "display_name": "vulcan_da",
   "language": "python",
   "name": "vulcan_da"
  },
  "language_info": {
   "codemirror_mode": {
    "name": "ipython",
    "version": 3
   },
   "file_extension": ".py",
   "mimetype": "text/x-python",
   "name": "python",
   "nbconvert_exporter": "python",
   "pygments_lexer": "ipython3",
   "version": "3.10.11"
  },
  "orig_nbformat": 4
 },
 "nbformat": 4,
 "nbformat_minor": 2
}
