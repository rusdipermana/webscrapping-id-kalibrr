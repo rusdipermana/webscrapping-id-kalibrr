{
 "cells": [
  {
   "attachments": {},
   "cell_type": "markdown",
   "metadata": {},
   "source": [
    "## Web Scraping pada Website kalibrr.id Menggunakan Python\n",
    "\n",
    "Web scraping (atau juga disebut sebagai web data mining atau web harvesting) adalah teknik pengambilan data dari halaman web secara otomatis dengan menggunakan perangkat lunak tertentu. Teknik ini digunakan untuk mengekstrak informasi dari berbagai situs web, termasuk teks, gambar, audio, video, dan informasi lainnya yang dapat diakses melalui jaringan internet.\n",
    "\n",
    "Web scraping dapat dilakukan dengan menggunakan berbagai teknologi dan metode, seperti crawling, parsing, scraping, dan ekstraksi data. Tujuan dari web scraping adalah untuk mengumpulkan data dari berbagai sumber yang berbeda dan menggunakannya untuk berbagai tujuan, seperti penelitian pasar, analisis data, pengumpulan berita, dan sebagainya.\n",
    "\n",
    "Namun, perlu diingat bahwa beberapa situs web mungkin melarang atau menghambat penggunaan teknik web scraping pada halaman web mereka, sehingga penggunaan teknik ini harus dilakukan dengan hati-hati dan dengan memperhatikan hak cipta dan privasi.\n",
    "\n",
    "\n",
    "www.kalibrr.id adalah situs web yang menyediakan platform untuk pencarian pekerjaan dan rekrutmen di Indonesia. Situs ini memungkinkan perusahaan untuk memposting lowongan pekerjaan mereka dan mencari kandidat yang cocok untuk posisi tersebut, serta memungkinkan pencari kerja untuk mencari lowongan pekerjaan yang sesuai dengan kualifikasi dan minat mereka.\n",
    "\n",
    "<img src=\"asset/kalibrr_id.png\">\n",
    "\n",
    "Sebelum memulai scraping web menggunakan python ada beberapa hal yang perlu disiapkan. Pertama, kita harus menginstall library yang diperlukan untuk scraping web yaitu \"request\" ,\"bs4\" dan \"pandas. Pada library \"bs4\" kita akan menggunakan sebuah fungsi yang bernama BeautifulSoup yang berguna untuk proses pengambilan data pada website. Pastikan anda install libary sebagai berikut :\n",
    "\n",
    "\n",
    "1. \"Requests\" digunakan untuk mengirim permintaan HTTP ke server dan mendapatkan respon\n",
    "2. \"BeautifulSoup\" digunakan untuk melakukan parsing atau ekstraksi data dari HTML dan XML\n",
    "3. \"Pandas\" digunakan untuk membantu mengelola data yang telah di scrape dan melakukan analisis data\n",
    "4. \"Flask\"\n",
    "5. \"Matplotlib\"\n"
   ]
  },
  {
   "attachments": {},
   "cell_type": "markdown",
   "metadata": {},
   "source": [
    "## Setting Virtual Environment , Kernel and Requirement Dependencies\n",
    "\n",
    "Environment dan Kernel pada Jupyter Notebook berfungsi untuk memastikan bahwa dependensi dan pustaka yang digunakan pada proyek atau aplikasi tertentu terisolasi dan tidak mempengaruhi proyek atau aplikasi lain. Kernel, sebagai bagian inti dari sistem, bertanggung jawab untuk mengeksekusi kode dalam bahasa pemrograman tertentu dan dapat diganti sesuai kebutuhan.\n",
    "\n",
    "a. Untuk Membuat Virtual Environment dan kernel, buka Anaconda Prompt dengan perintah sebagai berikut :\n",
    "\n",
    "- conda create -n <ENV_NAME> python=3.10\n",
    "- conda activate <ENV_NAME>\n",
    "\n",
    "- conda install ipykernel\n",
    "- python -m ipykernel install --user --name <ENV_NAME>\n",
    "\n",
    "b. Requirement Dependencies, atau dependensi kebutuhan, adalah daftar pustaka, modul, atau perangkat lunak lainnya yang diperlukan oleh suatu program atau aplikasi untuk berjalan dengan benar. Dalam pengembangan perangkat lunak, daftar dependensi biasanya didefinisikan dalam sebuah file yang disebut \"requirements file\". Seluruh dependecies telah di-export ke dalam file requirements.txt. Oleh karena itu untuk melakukan install packages anda hanya perlu melakukan install pakage sebagai berikut :\n",
    "\n",
    "- pip install -r requirements.txt --user\n",
    "\n",
    "untuk memastikan seluruh dependecies sudah ter-install, kita bisa melakukan pengecekan dengan perintah berikut :\n",
    "\n",
    "- conda list -n <ENY_NAME>\n",
    "\n",
    "<img src=\"asset/capture_list_env.png\">\n",
    "\n"
   ]
  },
  {
   "cell_type": "code",
   "execution_count": 173,
   "metadata": {},
   "outputs": [],
   "source": [
    "import requests\n",
    "import re\n",
    "from urllib.request import urlopen as uReq\n",
    "from bs4 import BeautifulSoup\n",
    "import pandas as pd"
   ]
  },
  {
   "cell_type": "code",
   "execution_count": 174,
   "metadata": {},
   "outputs": [
    {
     "name": "stdout",
     "output_type": "stream",
     "text": [
      "reading html element......!!!\n"
     ]
    }
   ],
   "source": [
    "def divElement(page_no) :\n",
    "    url = \"https://www.kalibrr.id/job-board/te/data/co/Indonesia/\"\n",
    "    pageFilter = \"?sort=Freshness\"\n",
    "\n",
    "    url_get = requests.get(url+str(page_no)+pageFilter)\n",
    "\n",
    "    soup = BeautifulSoup(url_get.content,\"html.parser\")\n",
    "\n",
    "    div_elements = soup.find_all('div', attrs={'class':'k-grid k-border-tertiary-ghost-color k-text-sm k-p-4 md:k-p-6 css-1b4vug6'})\n",
    "    # print(len(div_elements))\n",
    "    return div_elements\n",
    "print(\"reading html element......!!!\")"
   ]
  },
  {
   "cell_type": "code",
   "execution_count": 175,
   "metadata": {},
   "outputs": [],
   "source": [
    "from cgitb import text\n",
    "import string\n",
    "\n",
    "def pre_text(pretext):\n",
    "\n",
    "    pretext = pretext.lower()\n",
    "    pretext = pretext.translate(str.maketrans('', '', string.punctuation))\n",
    "    pretext = ' '.join(pretext.split())\n",
    "    pretext = pretext.strip()\n",
    "    return pretext\n"
   ]
  },
  {
   "cell_type": "code",
   "execution_count": 205,
   "metadata": {},
   "outputs": [
    {
     "name": "stdout",
     "output_type": "stream",
     "text": [
      "get job info....!!\n"
     ]
    }
   ],
   "source": [
    "def getJobInfo(job) :\n",
    "\n",
    "    job_company = job.select_one('div.k-col-start-3.k-row-start-3 a')\n",
    "    if job_company is not None :\n",
    "        # print('Company :',job_company.text.strip())\n",
    "        job_company = pre_text(job_company.text)\n",
    "\n",
    "    # for job_titles :\n",
    "    job_title = job.select_one('div.k-col-start-3.k-row-start-1 h2 a')\n",
    "    if job_title is not None:\n",
    "        # print('Position :',job_title.text.strip())\n",
    "        job_title = pre_text(job_title.text)\n",
    "\n",
    "    # for job_locations :\n",
    "    job_location = job.select_one('div.k-col-start-3.k-row-start-3 a.k-text-subdued.k-block')\n",
    "    if job_location is not None :\n",
    "        job_location = job_location.text.replace('\\n', \"\").replace(',', '').strip()\n",
    "        \n",
    "        job_location = re.sub(r\"\\b(?:Indonesia|City|Kota|Kabupaten)\\b\", \"\", job_location, flags=re.IGNORECASE).strip()\n",
    "        # print('Location :',job_location)\n",
    "    \n",
    "    # for date info     \n",
    "    posted_info = job.select_one('div.k-col-start-5.k-row-start-1 span:first-of-type')\n",
    "    if posted_info is not None :\n",
    "        posted_info = posted_info.text.strip()\n",
    "        published_at, application_deadline = posted_info.split(\"• Apply before\")\n",
    "        published_at = published_at.replace('ago', '').replace('Posted', '').strip()\n",
    "        application_deadline = application_deadline.strip()\n",
    "\n",
    "    job_data = [job_company, job_title, job_location, published_at, application_deadline]\n",
    "    return job_data\n",
    "\n",
    "print(\"get job info....!!\")\n"
   ]
  },
  {
   "cell_type": "code",
   "execution_count": 206,
   "metadata": {},
   "outputs": [],
   "source": [
    "def save_file() :\n",
    "    i = 0\n",
    "\n",
    "    job_desc = divElement(page_no=page)\n",
    "    # print(\"Total Save :\",len(job_desc))\n",
    "\n",
    "    for job in job_desc :\n",
    "        i = i + 1\n",
    "        job_info = getJobInfo(job)\n",
    "        csv.write(job_info[0]+ ',' + job_info[1] + ',' + job_info[2] + ',' + job_info[3] + \",\" + job_info[4]+ '\\n')\n",
    "        # print(\"save\",i)\n"
   ]
  },
  {
   "cell_type": "code",
   "execution_count": 207,
   "metadata": {},
   "outputs": [
    {
     "name": "stdout",
     "output_type": "stream",
     "text": [
      "Page from : 1\n",
      "Page from : 2\n",
      "Page from : 3\n",
      "Page from : 4\n",
      "Page from : 5\n",
      "Page from : 6\n",
      "Page from : 7\n",
      "Page from : 8\n",
      "Page from : 9\n",
      "Page from : 10\n",
      "Page from : 11\n",
      "Page from : 12\n",
      "Page from : 13\n",
      "Page from : 14\n",
      "Page from : 15\n",
      "Scraping is successful !!\n"
     ]
    }
   ],
   "source": [
    "csv=open(\"db_kalibrr.csv\", 'w')\n",
    "headers = \"Company,Title,Location,Published_At,Application_Deadline\\n\"\n",
    "csv.write(headers)\n",
    "\n",
    "\n",
    "for page in range(1,16):\n",
    "\n",
    "    print('Page from :',page)\n",
    "\n",
    "    save_file()\n",
    "\n",
    "print('Scraping is successful !!')\n",
    "\n",
    "csv.close()   "
   ]
  },
  {
   "cell_type": "code",
   "execution_count": 310,
   "metadata": {},
   "outputs": [],
   "source": [
    "df = pd.read_csv('db_kalibrr.csv')"
   ]
  },
  {
   "cell_type": "code",
   "execution_count": 311,
   "metadata": {},
   "outputs": [
    {
     "data": {
      "text/html": [
       "<div>\n",
       "<style scoped>\n",
       "    .dataframe tbody tr th:only-of-type {\n",
       "        vertical-align: middle;\n",
       "    }\n",
       "\n",
       "    .dataframe tbody tr th {\n",
       "        vertical-align: top;\n",
       "    }\n",
       "\n",
       "    .dataframe thead th {\n",
       "        text-align: right;\n",
       "    }\n",
       "</style>\n",
       "<table border=\"1\" class=\"dataframe\">\n",
       "  <thead>\n",
       "    <tr style=\"text-align: right;\">\n",
       "      <th></th>\n",
       "      <th>Company</th>\n",
       "      <th>Title</th>\n",
       "      <th>Location</th>\n",
       "      <th>Published_At</th>\n",
       "      <th>Application_Deadline</th>\n",
       "    </tr>\n",
       "  </thead>\n",
       "  <tbody>\n",
       "    <tr>\n",
       "      <th>0</th>\n",
       "      <td>paninbank</td>\n",
       "      <td>mis data analytics</td>\n",
       "      <td>Jakarta Pusat</td>\n",
       "      <td>2 days</td>\n",
       "      <td>11 May</td>\n",
       "    </tr>\n",
       "    <tr>\n",
       "      <th>1</th>\n",
       "      <td>pt panin daiichi life bancassurance</td>\n",
       "      <td>bancassurance oficer area pluit cengkareng bek...</td>\n",
       "      <td>North Jakarta</td>\n",
       "      <td>2 days</td>\n",
       "      <td>3 Jul</td>\n",
       "    </tr>\n",
       "    <tr>\n",
       "      <th>2</th>\n",
       "      <td>pt mobilitas digital indonesia</td>\n",
       "      <td>b2b commercial sales account</td>\n",
       "      <td>East Jakarta</td>\n",
       "      <td>2 days</td>\n",
       "      <td>4 Jun</td>\n",
       "    </tr>\n",
       "    <tr>\n",
       "      <th>3</th>\n",
       "      <td>ati business group</td>\n",
       "      <td>corporate it leader</td>\n",
       "      <td>Central Jakarta</td>\n",
       "      <td>2 days</td>\n",
       "      <td>3 Jul</td>\n",
       "    </tr>\n",
       "    <tr>\n",
       "      <th>4</th>\n",
       "      <td>schoters</td>\n",
       "      <td>data analyst</td>\n",
       "      <td>South Jakarta</td>\n",
       "      <td>2 days</td>\n",
       "      <td>3 Jul</td>\n",
       "    </tr>\n",
       "    <tr>\n",
       "      <th>5</th>\n",
       "      <td>pt panin daiichi life bancassurance</td>\n",
       "      <td>bancassurance officer area dki jakarta jawa barat</td>\n",
       "      <td>Central Jakarta</td>\n",
       "      <td>2 days</td>\n",
       "      <td>16 May</td>\n",
       "    </tr>\n",
       "    <tr>\n",
       "      <th>6</th>\n",
       "      <td>kompas gramedia</td>\n",
       "      <td>news video editor kompascom solo</td>\n",
       "      <td>Surakarta</td>\n",
       "      <td>3 days</td>\n",
       "      <td>30 Jul</td>\n",
       "    </tr>\n",
       "    <tr>\n",
       "      <th>7</th>\n",
       "      <td>pt global urban esensial</td>\n",
       "      <td>growth b2c lead</td>\n",
       "      <td>South Tangerang</td>\n",
       "      <td>3 days</td>\n",
       "      <td>2 Jul</td>\n",
       "    </tr>\n",
       "    <tr>\n",
       "      <th>8</th>\n",
       "      <td>pt alam sutera realty tbk</td>\n",
       "      <td>finance accounting staff pasar kemis kab tange...</td>\n",
       "      <td>Tangerang</td>\n",
       "      <td>3 days</td>\n",
       "      <td>2 Jul</td>\n",
       "    </tr>\n",
       "    <tr>\n",
       "      <th>9</th>\n",
       "      <td>pt sinar mitra sepadan finance smsfinance</td>\n",
       "      <td>hr industrial relation specialist</td>\n",
       "      <td>Jakarta Selatan</td>\n",
       "      <td>3 days</td>\n",
       "      <td>2 Jul</td>\n",
       "    </tr>\n",
       "    <tr>\n",
       "      <th>10</th>\n",
       "      <td>pt panin daiichi life bancassurance</td>\n",
       "      <td>bancassurance officer area sulawesi bali papua</td>\n",
       "      <td>Makassar</td>\n",
       "      <td>3 days</td>\n",
       "      <td>14 May</td>\n",
       "    </tr>\n",
       "    <tr>\n",
       "      <th>11</th>\n",
       "      <td>pt panin daiichi life bancassurance</td>\n",
       "      <td>bancassurance officer area jawa timur jawa tengah</td>\n",
       "      <td>Surabaya</td>\n",
       "      <td>3 days</td>\n",
       "      <td>14 May</td>\n",
       "    </tr>\n",
       "    <tr>\n",
       "      <th>12</th>\n",
       "      <td>pt panin daiichi life bancassurance</td>\n",
       "      <td>bancassurance officer area bali mataram suraba...</td>\n",
       "      <td>Surabaya</td>\n",
       "      <td>3 days</td>\n",
       "      <td>14 May</td>\n",
       "    </tr>\n",
       "    <tr>\n",
       "      <th>13</th>\n",
       "      <td>skintific</td>\n",
       "      <td>beauty product development</td>\n",
       "      <td>Jakarta Selatan</td>\n",
       "      <td>3 days</td>\n",
       "      <td>2 Aug</td>\n",
       "    </tr>\n",
       "    <tr>\n",
       "      <th>14</th>\n",
       "      <td>pgi data</td>\n",
       "      <td>odoo developer</td>\n",
       "      <td>Jakarta</td>\n",
       "      <td>3 days</td>\n",
       "      <td>29 Jun</td>\n",
       "    </tr>\n",
       "  </tbody>\n",
       "</table>\n",
       "</div>"
      ],
      "text/plain": [
       "                                      Company   \n",
       "0                                   paninbank  \\\n",
       "1         pt panin daiichi life bancassurance   \n",
       "2              pt mobilitas digital indonesia   \n",
       "3                          ati business group   \n",
       "4                                    schoters   \n",
       "5         pt panin daiichi life bancassurance   \n",
       "6                             kompas gramedia   \n",
       "7                    pt global urban esensial   \n",
       "8                   pt alam sutera realty tbk   \n",
       "9   pt sinar mitra sepadan finance smsfinance   \n",
       "10        pt panin daiichi life bancassurance   \n",
       "11        pt panin daiichi life bancassurance   \n",
       "12        pt panin daiichi life bancassurance   \n",
       "13                                  skintific   \n",
       "14                                   pgi data   \n",
       "\n",
       "                                                Title         Location   \n",
       "0                                  mis data analytics    Jakarta Pusat  \\\n",
       "1   bancassurance oficer area pluit cengkareng bek...    North Jakarta   \n",
       "2                        b2b commercial sales account     East Jakarta   \n",
       "3                                 corporate it leader  Central Jakarta   \n",
       "4                                        data analyst    South Jakarta   \n",
       "5   bancassurance officer area dki jakarta jawa barat  Central Jakarta   \n",
       "6                    news video editor kompascom solo        Surakarta   \n",
       "7                                     growth b2c lead  South Tangerang   \n",
       "8   finance accounting staff pasar kemis kab tange...        Tangerang   \n",
       "9                   hr industrial relation specialist  Jakarta Selatan   \n",
       "10     bancassurance officer area sulawesi bali papua         Makassar   \n",
       "11  bancassurance officer area jawa timur jawa tengah         Surabaya   \n",
       "12  bancassurance officer area bali mataram suraba...         Surabaya   \n",
       "13                         beauty product development  Jakarta Selatan   \n",
       "14                                     odoo developer          Jakarta   \n",
       "\n",
       "   Published_At Application_Deadline  \n",
       "0        2 days               11 May  \n",
       "1        2 days                3 Jul  \n",
       "2        2 days                4 Jun  \n",
       "3        2 days                3 Jul  \n",
       "4        2 days                3 Jul  \n",
       "5        2 days               16 May  \n",
       "6        3 days               30 Jul  \n",
       "7        3 days                2 Jul  \n",
       "8        3 days                2 Jul  \n",
       "9        3 days                2 Jul  \n",
       "10       3 days               14 May  \n",
       "11       3 days               14 May  \n",
       "12       3 days               14 May  \n",
       "13       3 days                2 Aug  \n",
       "14       3 days               29 Jun  "
      ]
     },
     "execution_count": 311,
     "metadata": {},
     "output_type": "execute_result"
    }
   ],
   "source": [
    "df.head(15)"
   ]
  },
  {
   "cell_type": "code",
   "execution_count": 181,
   "metadata": {},
   "outputs": [
    {
     "name": "stdout",
     "output_type": "stream",
     "text": [
      "<class 'pandas.core.frame.DataFrame'>\n",
      "RangeIndex: 225 entries, 0 to 224\n",
      "Data columns (total 5 columns):\n",
      " #   Column                Non-Null Count  Dtype \n",
      "---  ------                --------------  ----- \n",
      " 0   Company               225 non-null    object\n",
      " 1   Title                 225 non-null    object\n",
      " 2   Location              225 non-null    object\n",
      " 3   Published_At          225 non-null    object\n",
      " 4   Application_Deadline  225 non-null    object\n",
      "dtypes: object(5)\n",
      "memory usage: 8.9+ KB\n"
     ]
    }
   ],
   "source": [
    "df.info()"
   ]
  },
  {
   "cell_type": "code",
   "execution_count": 182,
   "metadata": {},
   "outputs": [
    {
     "data": {
      "text/plain": [
       "False    225\n",
       "Name: count, dtype: int64"
      ]
     },
     "execution_count": 182,
     "metadata": {},
     "output_type": "execute_result"
    }
   ],
   "source": [
    "df.duplicated().value_counts()"
   ]
  },
  {
   "cell_type": "code",
   "execution_count": 183,
   "metadata": {},
   "outputs": [
    {
     "data": {
      "text/plain": [
       "Company                 0\n",
       "Title                   0\n",
       "Location                0\n",
       "Published_At            0\n",
       "Application_Deadline    0\n",
       "dtype: int64"
      ]
     },
     "execution_count": 183,
     "metadata": {},
     "output_type": "execute_result"
    }
   ],
   "source": [
    "df.isna().sum()"
   ]
  },
  {
   "cell_type": "code",
   "execution_count": 309,
   "metadata": {},
   "outputs": [
    {
     "data": {
      "text/plain": [
       "Location\n",
       "Jakarta Selatan    73\n",
       "Jakarta Pusat      38\n",
       "Tangerang          33\n",
       "Jakarta            27\n",
       "Jakarta Utara      18\n",
       "Jakarta Barat      10\n",
       "Surabaya            5\n",
       "Jakarta Timur       4\n",
       "Bogor               4\n",
       "Bandung             3\n",
       "Makassar            2\n",
       "Surakarta           1\n",
       "Badung              1\n",
       "Sumbawa             1\n",
       "Denpasar            1\n",
       "Palembang           1\n",
       "Yogyakarta          1\n",
       "Blitar              1\n",
       "Bekasi              1\n",
       "Name: count, dtype: int64"
      ]
     },
     "execution_count": 309,
     "metadata": {},
     "output_type": "execute_result"
    }
   ],
   "source": [
    "df['Location'].value_counts()"
   ]
  },
  {
   "cell_type": "code",
   "execution_count": 302,
   "metadata": {},
   "outputs": [
    {
     "data": {
      "image/png": "[encoded data removed]",
      "text/plain": [
       "<Figure size 640x440 with 1 Axes>"
      ]
     },
     "metadata": {},
     "output_type": "display_data"
    },
    {
     "data": {
      "text/plain": [
       "<Figure size 800x480 with 0 Axes>"
      ]
     },
     "metadata": {},
     "output_type": "display_data"
    }
   ],
   "source": [
    "import matplotlib.pyplot as plt\n",
    "\n",
    "kota_ubah = df[df['Location'].str.contains('jakarta', case=False)]\n",
    "\n",
    "# Ubah nilai kolom 'Location' menjadi 'jakarta' jika nilainya terdapat pada kota_ubah\n",
    "replace_dict = {k: 'Jakarta' for k in kota_ubah['Location'].unique()}\n",
    "city_dict = df['Location'].replace(replace_dict)\n",
    "\n",
    "city_dict = city_dict.sort_values(ascending=False).value_counts().head()\n",
    "\n",
    "\n",
    "# menyesuaikan margin pada sumbu x\n",
    "plt.subplots_adjust(bottom=0.2)\n",
    "\n",
    "# menambahkan jarak pada label sumbu x\n",
    "plt.xticks(rotation=45, ha='right')\n",
    "\n",
    "\n",
    "# membuat diagram batang\n",
    "colors = ['#264653', '#2a9d8f', '#e9c46a', '#f4a261', '#e76f51']\n",
    "plt.bar(city_dict.index, city_dict.values, color=colors)\n",
    "\n",
    "# menambahkan label sumbu x dan y\n",
    "plt.xlabel('City')\n",
    "plt.ylabel('Count')\n",
    "\n",
    "\n",
    "# menambahkan judul diagram\n",
    "plt.title('Job Postings by City', pad=20)\n",
    "\n",
    "#Merubah Backrground\n",
    "\n",
    "plt.style.use('dark_background')\n",
    "plt.figure(facecolor='grey',figsize=(10, 6))\n",
    "\n",
    "# menampilkan diagram\n",
    "plt.show()"
   ]
  },
  {
   "attachments": {},
   "cell_type": "markdown",
   "metadata": {},
   "source": [
    "Terlihat dari Diagram yang ditampilkan kalau Kota Jakarta masih merupakan Lokasi yang tinggi untuk mencari pekerjaan. Namun perlu diperhatikan data ini hanya terdiri dari 148 yang diambil dari www.kalibrr.id untuk lowongan bedasarkan kata kunci \"Data\" dan tidak mewakili dari seluruh indonesia. Untuk Perusahaan yang sering melakukan Posting lowongan perkerjaan bedasarkan kata kunci tersebut adalah sebagai berikut :"
   ]
  },
  {
   "cell_type": "code",
   "execution_count": 298,
   "metadata": {},
   "outputs": [],
   "source": [
    "# # Ubah nilai pada kolom tertentu\n",
    "df['Location'] = df['Location'].apply(pre_text)\n",
    "\n",
    "df['Location'] = df['Location'].replace(['central jakarta','south jakarta','east jakarta', 'west jakarta', 'north jakarta'], \\\n",
    "                                          ['jakarta pusat','jakarta selatan','jakarta timur', 'jakarta barat', 'jakarta utara'])\n",
    "# Ubah nilai kolom 'Location' menjadi 'tanggerang' jika nilainya terdapat pada kota_ubah\n",
    "kota_ubah = df[df['Location'].str.contains('tangerang', case=False)]\n",
    "replace_dict = {k: 'tangerang' for k in kota_ubah['Location'].unique()}\n",
    "df['Location'] = df['Location'].replace(replace_dict).str.title()"
   ]
  },
  {
   "cell_type": "code",
   "execution_count": 301,
   "metadata": {},
   "outputs": [
    {
     "data": {
      "image/png": "[encoded data removed]",
      "text/plain": [
       "<Figure size 800x480 with 1 Axes>"
      ]
     },
     "metadata": {},
     "output_type": "display_data"
    }
   ],
   "source": [
    "# Tampilkan hasil\n",
    "\n",
    "top_city_dict = df['Location'].sort_values(ascending=False)\n",
    "\n",
    "top_city_dict = top_city_dict.value_counts(normalize=True).head(10)\n",
    "top_city_dict = top_city_dict.apply(lambda x: round(x * 100, 2))\n",
    "\n",
    "# membuat diagram pie dari proporsi kota\n",
    "# fig, ax = plt.subplots(figsize=(8, 6))\n",
    "# ax.pie(top_city_dict, labels=top_city_dict.index, autopct='%1.1f%%', startangle=90, labeldistance=1.1, textprops={'fontsize': 10})\n",
    "# ax.axis('equal')\n",
    "# ax.set_title('Proporsi Kota')\n",
    "# plt.show()\n",
    "\n",
    "# membuat diagram batang\n",
    "fig, ax = plt.subplots(figsize=(10, 6))\n",
    "colors = ['#264653', '#2a9d8f', '#e9c46a', '#f4a261', '#e76f51']\n",
    "ax.bar(top_city_dict.index, top_city_dict.values, color=colors)\n",
    "\n",
    "# menambahkan label sumbu x dan y\n",
    "ax.set_xlabel('Location', fontsize=14)\n",
    "ax.set_ylabel('Proportion (%)', fontsize=14)\n",
    "\n",
    "# menambahkan judul diagram\n",
    "ax.set_title('Proportion of Job Postings by Location', fontsize=18, pad=20)\n",
    "\n",
    "# menyesuaikan margin pada sumbu x\n",
    "plt.subplots_adjust(bottom=0.2)\n",
    "\n",
    "# menambahkan jarak pada label sumbu x\n",
    "plt.xticks(rotation=45, ha='right')\n",
    "\n",
    "# menyembunyikan garis sumbu y\n",
    "ax.spines['left'].set_visible(False)\n",
    "\n",
    "# menambahkan nilai proporsi pada setiap batang\n",
    "for i, v in enumerate(top_city_dict.values):\n",
    "    ax.text(i, v+0.5, f\"{v:.2f}%\", ha='center', fontsize=10, fontweight='bold')\n",
    "\n",
    "plt.show()\n"
   ]
  },
  {
   "attachments": {},
   "cell_type": "markdown",
   "metadata": {},
   "source": [
    "Bedasarkan data yang ditampilkan maka urutan Lowongan pekerjaan untuk \"Data\" bedasarkan lokasi yang ditampilkan adalah :\n",
    "\n",
    "1. Jakarta Selatan\n",
    "2. Jakarta Pusat\n",
    "3. Tanggerang\n",
    "4. Jakarta\n",
    "5. Jakarta Utara\n",
    "6. Jakarta Barat\n",
    "7. Surabaya\n",
    "8. Jakata Timur\n",
    "9. Bogor\n",
    "10. Bandung\n",
    "\n",
    "Namun untuk melihat perbandingan jika Kota Jakarta dijadikan satu adalah :"
   ]
  },
  {
   "cell_type": "code",
   "execution_count": 308,
   "metadata": {},
   "outputs": [
    {
     "data": {
      "image/png": "[encoded data removed]",
      "text/plain": [
       "<Figure size 640x440 with 1 Axes>"
      ]
     },
     "metadata": {},
     "output_type": "display_data"
    },
    {
     "data": {
      "text/plain": [
       "<Figure size 800x480 with 0 Axes>"
      ]
     },
     "metadata": {},
     "output_type": "display_data"
    }
   ],
   "source": [
    "company = df['Company'].sort_values(ascending=False).value_counts().head()\n",
    "# menyesuaikan margin pada sumbu x\n",
    "plt.subplots_adjust(bottom=0.2)\n",
    "\n",
    "# menambahkan jarak pada label sumbu x\n",
    "plt.xticks(rotation=45, ha='right')\n",
    "\n",
    "\n",
    "# membuat diagram batang\n",
    "colors = ['#264653', '#2a9d8f', '#e9c46a', '#f4a261', '#e76f51']\n",
    "plt.bar(company.index, company.values, color=colors)\n",
    "\n",
    "# menambahkan label sumbu x dan y\n",
    "plt.xlabel('Company')\n",
    "plt.ylabel('Count')\n",
    "\n",
    "\n",
    "# menambahkan judul diagram\n",
    "plt.title('Job Postings by Company', pad=20)\n",
    "\n",
    "#Merubah Backrground\n",
    "\n",
    "plt.style.use('dark_background')\n",
    "plt.figure(facecolor='grey',figsize=(10, 6))\n",
    "\n",
    "# menampilkan diagram\n",
    "plt.show()"
   ]
  },
  {
   "cell_type": "code",
   "execution_count": 312,
   "metadata": {},
   "outputs": [
    {
     "data": {
      "text/plain": [
       "Published_At  Application_Deadline\n",
       "a month       30 May                  13\n",
       "2 months      30 May                   8\n",
       "a month       29 May                   7\n",
       "24 days       11 Jun                   6\n",
       "a month       26 May                   6\n",
       "                                      ..\n",
       "23 days       30 Dec                   1\n",
       "10 days       21 May                   1\n",
       "23 days       11 Jun                   1\n",
       "              11 Dec                   1\n",
       "10 days       10 Jun                   1\n",
       "Name: count, Length: 131, dtype: int64"
      ]
     },
     "execution_count": 312,
     "metadata": {},
     "output_type": "execute_result"
    }
   ],
   "source": [
    "df[['Published_At','Application_Deadline']].value_counts()"
   ]
  },
  {
   "cell_type": "code",
   "execution_count": 313,
   "metadata": {},
   "outputs": [],
   "source": [
    "import numpy as np\n",
    "# fungsi untuk mengubah nilai menjadi timedelta jika dapat diubah\n",
    "def to_timedelta(val):\n",
    "    try:\n",
    "        return pd.Timedelta(val)\n",
    "    except:\n",
    "        pass\n",
    "    try:\n",
    "        if 'years' in val:\n",
    "            val = val.replace('years', '').strip()\n",
    "            return int(val) * pd.Timedelta(days=365)\n",
    "        if 'year' in val:\n",
    "            val = val.replace('year', '').strip()\n",
    "            return int(val) * pd.Timedelta(days=365)\n",
    "        if 'months' in val:\n",
    "            val = val.replace('months', '').strip()\n",
    "            return int(val) * pd.Timedelta(days=30)\n",
    "        if 'days' in val:\n",
    "            val = val.replace('days', '').strip()\n",
    "            return pd.Timedelta(days=int(val))\n",
    "        if 'month' in val:\n",
    "            return pd.Timedelta(days=30)\n",
    "        if 'day' in val:\n",
    "            return pd.Timedelta(days=1)\n",
    "        # if 'hours' in val:\n",
    "        #     return pd.Timedelta(days=1)\n",
    "        if 'minute' in val:\n",
    "            val = val.replace('minute', '').strip()\n",
    "            return pd.Timedelta(minutes=int(val))\n",
    "        if 'minutes' in val:\n",
    "            val = val.replace('minutes', '').strip()\n",
    "            return pd.Timedelta(minutes=int(val))\n",
    "        if 'hour' in val:\n",
    "            val = val.replace('an', '1').replace('hour', '').strip()\n",
    "            return pd.Timedelta(minutes=int(val))\n",
    "        if 'hours' in val:\n",
    "            val = val.replace('hours', '').strip()\n",
    "            return pd.Timedelta(minutes=int(val))\n",
    "    except:\n",
    "        pass\n",
    "    return np.nan\n",
    "\n",
    "now = pd.Timestamp.now()\n",
    "# konversi kolom posted_date menjadi timedelta\n",
    "df['Posted_Date'] = df['Published_At'].apply(to_timedelta)\n",
    "df['Posted_Date'] = now - df['Posted_Date']\n",
    "df['Posted_Date']\n",
    "df['Posted_Date'] = df['Posted_Date'].apply(lambda x: x.strftime('%d-%m-%Y'))\n",
    "df['Posted_Date'] = pd.to_datetime(df['Posted_Date'], format='%d-%m-%Y')\n"
   ]
  },
  {
   "cell_type": "code",
   "execution_count": 314,
   "metadata": {},
   "outputs": [
    {
     "data": {
      "text/html": [
       "<div>\n",
       "<style scoped>\n",
       "    .dataframe tbody tr th:only-of-type {\n",
       "        vertical-align: middle;\n",
       "    }\n",
       "\n",
       "    .dataframe tbody tr th {\n",
       "        vertical-align: top;\n",
       "    }\n",
       "\n",
       "    .dataframe thead th {\n",
       "        text-align: right;\n",
       "    }\n",
       "</style>\n",
       "<table border=\"1\" class=\"dataframe\">\n",
       "  <thead>\n",
       "    <tr style=\"text-align: right;\">\n",
       "      <th></th>\n",
       "      <th>Company</th>\n",
       "      <th>Title</th>\n",
       "      <th>Location</th>\n",
       "      <th>Published_At</th>\n",
       "      <th>Application_Deadline</th>\n",
       "      <th>Posted_Date</th>\n",
       "    </tr>\n",
       "  </thead>\n",
       "  <tbody>\n",
       "    <tr>\n",
       "      <th>0</th>\n",
       "      <td>paninbank</td>\n",
       "      <td>mis data analytics</td>\n",
       "      <td>Jakarta Pusat</td>\n",
       "      <td>2 days</td>\n",
       "      <td>11 May</td>\n",
       "      <td>2023-05-05</td>\n",
       "    </tr>\n",
       "    <tr>\n",
       "      <th>1</th>\n",
       "      <td>pt panin daiichi life bancassurance</td>\n",
       "      <td>bancassurance oficer area pluit cengkareng bek...</td>\n",
       "      <td>North Jakarta</td>\n",
       "      <td>2 days</td>\n",
       "      <td>3 Jul</td>\n",
       "      <td>2023-05-05</td>\n",
       "    </tr>\n",
       "    <tr>\n",
       "      <th>2</th>\n",
       "      <td>pt mobilitas digital indonesia</td>\n",
       "      <td>b2b commercial sales account</td>\n",
       "      <td>East Jakarta</td>\n",
       "      <td>2 days</td>\n",
       "      <td>4 Jun</td>\n",
       "      <td>2023-05-05</td>\n",
       "    </tr>\n",
       "    <tr>\n",
       "      <th>3</th>\n",
       "      <td>ati business group</td>\n",
       "      <td>corporate it leader</td>\n",
       "      <td>Central Jakarta</td>\n",
       "      <td>2 days</td>\n",
       "      <td>3 Jul</td>\n",
       "      <td>2023-05-05</td>\n",
       "    </tr>\n",
       "    <tr>\n",
       "      <th>4</th>\n",
       "      <td>schoters</td>\n",
       "      <td>data analyst</td>\n",
       "      <td>South Jakarta</td>\n",
       "      <td>2 days</td>\n",
       "      <td>3 Jul</td>\n",
       "      <td>2023-05-05</td>\n",
       "    </tr>\n",
       "  </tbody>\n",
       "</table>\n",
       "</div>"
      ],
      "text/plain": [
       "                               Company   \n",
       "0                            paninbank  \\\n",
       "1  pt panin daiichi life bancassurance   \n",
       "2       pt mobilitas digital indonesia   \n",
       "3                   ati business group   \n",
       "4                             schoters   \n",
       "\n",
       "                                               Title         Location   \n",
       "0                                 mis data analytics    Jakarta Pusat  \\\n",
       "1  bancassurance oficer area pluit cengkareng bek...    North Jakarta   \n",
       "2                       b2b commercial sales account     East Jakarta   \n",
       "3                                corporate it leader  Central Jakarta   \n",
       "4                                       data analyst    South Jakarta   \n",
       "\n",
       "  Published_At Application_Deadline Posted_Date  \n",
       "0       2 days               11 May  2023-05-05  \n",
       "1       2 days                3 Jul  2023-05-05  \n",
       "2       2 days                4 Jun  2023-05-05  \n",
       "3       2 days                3 Jul  2023-05-05  \n",
       "4       2 days                3 Jul  2023-05-05  "
      ]
     },
     "execution_count": 314,
     "metadata": {},
     "output_type": "execute_result"
    }
   ],
   "source": [
    "df.head()"
   ]
  },
  {
   "cell_type": "code",
   "execution_count": 318,
   "metadata": {},
   "outputs": [
    {
     "data": {
      "text/plain": [
       "Published_At  Posted_Date\n",
       "a month       2023-04-07     67\n",
       "2 months      2023-03-08     38\n",
       "5 days        2023-05-02     16\n",
       "25 days       2023-04-12     14\n",
       "4 days        2023-05-03     10\n",
       "3 days        2023-05-04     10\n",
       "10 days       2023-04-27     10\n",
       "20 days       2023-04-17      9\n",
       "19 days       2023-04-18      9\n",
       "23 days       2023-04-14      9\n",
       "24 days       2023-04-13      8\n",
       "12 days       2023-04-25      7\n",
       "2 days        2023-05-05      6\n",
       "11 days       2023-04-26      4\n",
       "9 days        2023-04-28      3\n",
       "3 months      2023-02-06      2\n",
       "17 days       2023-04-20      2\n",
       "18 days       2023-04-19      1\n",
       "Name: count, dtype: int64"
      ]
     },
     "execution_count": 318,
     "metadata": {},
     "output_type": "execute_result"
    }
   ],
   "source": [
    "df[['Published_At','Posted_Date']].value_counts()"
   ]
  },
  {
   "cell_type": "code",
   "execution_count": 319,
   "metadata": {},
   "outputs": [
    {
     "data": {
      "text/plain": [
       "Company                         object\n",
       "Title                           object\n",
       "Location                        object\n",
       "Published_At                    object\n",
       "Application_Deadline            object\n",
       "Posted_Date             datetime64[ns]\n",
       "dtype: object"
      ]
     },
     "execution_count": 319,
     "metadata": {},
     "output_type": "execute_result"
    }
   ],
   "source": [
    "df.dtypes"
   ]
  },
  {
   "cell_type": "code",
   "execution_count": 320,
   "metadata": {},
   "outputs": [
    {
     "data": {
      "text/html": [
       "<div>\n",
       "<style scoped>\n",
       "    .dataframe tbody tr th:only-of-type {\n",
       "        vertical-align: middle;\n",
       "    }\n",
       "\n",
       "    .dataframe tbody tr th {\n",
       "        vertical-align: top;\n",
       "    }\n",
       "\n",
       "    .dataframe thead th {\n",
       "        text-align: right;\n",
       "    }\n",
       "</style>\n",
       "<table border=\"1\" class=\"dataframe\">\n",
       "  <thead>\n",
       "    <tr style=\"text-align: right;\">\n",
       "      <th></th>\n",
       "      <th>Application_Deadline</th>\n",
       "      <th>Posted_Date</th>\n",
       "    </tr>\n",
       "  </thead>\n",
       "  <tbody>\n",
       "  </tbody>\n",
       "</table>\n",
       "</div>"
      ],
      "text/plain": [
       "Empty DataFrame\n",
       "Columns: [Application_Deadline, Posted_Date]\n",
       "Index: []"
      ]
     },
     "execution_count": 320,
     "metadata": {},
     "output_type": "execute_result"
    }
   ],
   "source": [
    "df[df['Posted_Date'].dt.year == 2022][['Application_Deadline','Posted_Date']]"
   ]
  },
  {
   "cell_type": "code",
   "execution_count": 321,
   "metadata": {},
   "outputs": [],
   "source": [
    "month_dict = {\n",
    "    'Jan': 'January',\n",
    "    'Feb': 'February',\n",
    "    'Mar': 'March',\n",
    "    'Apr': 'April',\n",
    "    'May': 'May',\n",
    "    'Jun': 'June',\n",
    "    'Jul': 'July',\n",
    "    'Aug': 'August',\n",
    "    'Sep': 'September',\n",
    "    'Oct': 'October',\n",
    "    'Nov': 'November',\n",
    "    'Dec': 'December'\n",
    "}\n",
    "df['Application_Deadline'] = df['Application_Deadline'].apply(lambda x: ' '.join([month_dict[i] if i in month_dict else i for i in x.split()]))\n",
    "df['Deadline_Date'] = df['Application_Deadline'].apply(lambda x: x + ' 2023')\n",
    "df['Deadline_Date'] = pd.to_datetime(df['Deadline_Date'], format='%d %B %Y')"
   ]
  },
  {
   "cell_type": "code",
   "execution_count": 322,
   "metadata": {},
   "outputs": [
    {
     "data": {
      "text/plain": [
       "Deadline_Date\n",
       "2023-05-30       34\n",
       "2023-06-29       15\n",
       "2023-05-29       11\n",
       "2023-12-30        9\n",
       "2023-06-11        8\n",
       "                 ..\n",
       "2023-05-15        1\n",
       "2023-06-03        1\n",
       "2023-07-09        1\n",
       "2023-07-10        1\n",
       "2023-03-17        1\n",
       "Name: count, Length: 74, dtype: int64"
      ]
     },
     "execution_count": 322,
     "metadata": {},
     "output_type": "execute_result"
    }
   ],
   "source": [
    "df[['Deadline_Date']].value_counts()"
   ]
  },
  {
   "cell_type": "code",
   "execution_count": 332,
   "metadata": {},
   "outputs": [
    {
     "data": {
      "text/html": [
       "<div>\n",
       "<style scoped>\n",
       "    .dataframe tbody tr th:only-of-type {\n",
       "        vertical-align: middle;\n",
       "    }\n",
       "\n",
       "    .dataframe tbody tr th {\n",
       "        vertical-align: top;\n",
       "    }\n",
       "\n",
       "    .dataframe thead th {\n",
       "        text-align: right;\n",
       "    }\n",
       "</style>\n",
       "<table border=\"1\" class=\"dataframe\">\n",
       "  <thead>\n",
       "    <tr style=\"text-align: right;\">\n",
       "      <th></th>\n",
       "      <th>Company</th>\n",
       "      <th>Title</th>\n",
       "      <th>Location</th>\n",
       "      <th>Published_At</th>\n",
       "      <th>Application_Deadline</th>\n",
       "      <th>Posted_Date</th>\n",
       "      <th>Deadline_Date</th>\n",
       "    </tr>\n",
       "  </thead>\n",
       "  <tbody>\n",
       "    <tr>\n",
       "      <th>0</th>\n",
       "      <td>paninbank</td>\n",
       "      <td>mis data analytics</td>\n",
       "      <td>Jakarta Pusat</td>\n",
       "      <td>2 days</td>\n",
       "      <td>11 May</td>\n",
       "      <td>2023-05-05</td>\n",
       "      <td>2023-05-11</td>\n",
       "    </tr>\n",
       "    <tr>\n",
       "      <th>1</th>\n",
       "      <td>pt panin daiichi life bancassurance</td>\n",
       "      <td>bancassurance oficer area pluit cengkareng bek...</td>\n",
       "      <td>North Jakarta</td>\n",
       "      <td>2 days</td>\n",
       "      <td>3 July</td>\n",
       "      <td>2023-05-05</td>\n",
       "      <td>2023-07-03</td>\n",
       "    </tr>\n",
       "    <tr>\n",
       "      <th>2</th>\n",
       "      <td>pt mobilitas digital indonesia</td>\n",
       "      <td>b2b commercial sales account</td>\n",
       "      <td>East Jakarta</td>\n",
       "      <td>2 days</td>\n",
       "      <td>4 June</td>\n",
       "      <td>2023-05-05</td>\n",
       "      <td>2023-06-04</td>\n",
       "    </tr>\n",
       "    <tr>\n",
       "      <th>3</th>\n",
       "      <td>ati business group</td>\n",
       "      <td>corporate it leader</td>\n",
       "      <td>Central Jakarta</td>\n",
       "      <td>2 days</td>\n",
       "      <td>3 July</td>\n",
       "      <td>2023-05-05</td>\n",
       "      <td>2023-07-03</td>\n",
       "    </tr>\n",
       "    <tr>\n",
       "      <th>4</th>\n",
       "      <td>schoters</td>\n",
       "      <td>data analyst</td>\n",
       "      <td>South Jakarta</td>\n",
       "      <td>2 days</td>\n",
       "      <td>3 July</td>\n",
       "      <td>2023-05-05</td>\n",
       "      <td>2023-07-03</td>\n",
       "    </tr>\n",
       "    <tr>\n",
       "      <th>...</th>\n",
       "      <td>...</td>\n",
       "      <td>...</td>\n",
       "      <td>...</td>\n",
       "      <td>...</td>\n",
       "      <td>...</td>\n",
       "      <td>...</td>\n",
       "      <td>...</td>\n",
       "    </tr>\n",
       "    <tr>\n",
       "      <th>220</th>\n",
       "      <td>ntt indonesia technology</td>\n",
       "      <td>etl consultant</td>\n",
       "      <td>South Jakarta</td>\n",
       "      <td>2 months</td>\n",
       "      <td>30 May</td>\n",
       "      <td>2023-03-08</td>\n",
       "      <td>2023-05-30</td>\n",
       "    </tr>\n",
       "    <tr>\n",
       "      <th>221</th>\n",
       "      <td>pt berlian sistem informasi</td>\n",
       "      <td>it product management</td>\n",
       "      <td>Jakarta Timur</td>\n",
       "      <td>2 months</td>\n",
       "      <td>19 September</td>\n",
       "      <td>2023-03-08</td>\n",
       "      <td>2023-09-19</td>\n",
       "    </tr>\n",
       "    <tr>\n",
       "      <th>222</th>\n",
       "      <td>pt sinar mas digital ventures</td>\n",
       "      <td>operations lead</td>\n",
       "      <td>Bekasi</td>\n",
       "      <td>2 months</td>\n",
       "      <td>22 May</td>\n",
       "      <td>2023-03-08</td>\n",
       "      <td>2023-05-22</td>\n",
       "    </tr>\n",
       "    <tr>\n",
       "      <th>223</th>\n",
       "      <td>pt bfi finance indonesia tbk</td>\n",
       "      <td>bfi finance x arkavidia data engineer</td>\n",
       "      <td>Tangerang</td>\n",
       "      <td>3 months</td>\n",
       "      <td>30 December</td>\n",
       "      <td>2023-02-06</td>\n",
       "      <td>2023-12-30</td>\n",
       "    </tr>\n",
       "    <tr>\n",
       "      <th>224</th>\n",
       "      <td>pt bfi finance indonesia tbk</td>\n",
       "      <td>bfi finance x arkavidia data analyst</td>\n",
       "      <td>Tangerang</td>\n",
       "      <td>3 months</td>\n",
       "      <td>30 December</td>\n",
       "      <td>2023-02-06</td>\n",
       "      <td>2023-12-30</td>\n",
       "    </tr>\n",
       "  </tbody>\n",
       "</table>\n",
       "<p>225 rows × 7 columns</p>\n",
       "</div>"
      ],
      "text/plain": [
       "                                 Company   \n",
       "0                              paninbank  \\\n",
       "1    pt panin daiichi life bancassurance   \n",
       "2         pt mobilitas digital indonesia   \n",
       "3                     ati business group   \n",
       "4                               schoters   \n",
       "..                                   ...   \n",
       "220             ntt indonesia technology   \n",
       "221          pt berlian sistem informasi   \n",
       "222        pt sinar mas digital ventures   \n",
       "223         pt bfi finance indonesia tbk   \n",
       "224         pt bfi finance indonesia tbk   \n",
       "\n",
       "                                                 Title         Location   \n",
       "0                                   mis data analytics    Jakarta Pusat  \\\n",
       "1    bancassurance oficer area pluit cengkareng bek...    North Jakarta   \n",
       "2                         b2b commercial sales account     East Jakarta   \n",
       "3                                  corporate it leader  Central Jakarta   \n",
       "4                                         data analyst    South Jakarta   \n",
       "..                                                 ...              ...   \n",
       "220                                     etl consultant    South Jakarta   \n",
       "221                              it product management    Jakarta Timur   \n",
       "222                                    operations lead           Bekasi   \n",
       "223              bfi finance x arkavidia data engineer        Tangerang   \n",
       "224               bfi finance x arkavidia data analyst        Tangerang   \n",
       "\n",
       "    Published_At Application_Deadline Posted_Date Deadline_Date  \n",
       "0         2 days               11 May  2023-05-05    2023-05-11  \n",
       "1         2 days               3 July  2023-05-05    2023-07-03  \n",
       "2         2 days               4 June  2023-05-05    2023-06-04  \n",
       "3         2 days               3 July  2023-05-05    2023-07-03  \n",
       "4         2 days               3 July  2023-05-05    2023-07-03  \n",
       "..           ...                  ...         ...           ...  \n",
       "220     2 months               30 May  2023-03-08    2023-05-30  \n",
       "221     2 months         19 September  2023-03-08    2023-09-19  \n",
       "222     2 months               22 May  2023-03-08    2023-05-22  \n",
       "223     3 months          30 December  2023-02-06    2023-12-30  \n",
       "224     3 months          30 December  2023-02-06    2023-12-30  \n",
       "\n",
       "[225 rows x 7 columns]"
      ]
     },
     "execution_count": 332,
     "metadata": {},
     "output_type": "execute_result"
    }
   ],
   "source": [
    "df"
   ]
  },
  {
   "cell_type": "code",
   "execution_count": 324,
   "metadata": {},
   "outputs": [
    {
     "name": "stdout",
     "output_type": "stream",
     "text": [
      "<class 'pandas.core.frame.DataFrame'>\n",
      "RangeIndex: 225 entries, 0 to 224\n",
      "Data columns (total 7 columns):\n",
      " #   Column                Non-Null Count  Dtype         \n",
      "---  ------                --------------  -----         \n",
      " 0   Company               225 non-null    object        \n",
      " 1   Title                 225 non-null    object        \n",
      " 2   Location              225 non-null    object        \n",
      " 3   Published_At          225 non-null    object        \n",
      " 4   Application_Deadline  225 non-null    object        \n",
      " 5   Posted_Date           225 non-null    datetime64[ns]\n",
      " 6   Deadline_Date         225 non-null    datetime64[ns]\n",
      "dtypes: datetime64[ns](2), object(5)\n",
      "memory usage: 12.4+ KB\n"
     ]
    }
   ],
   "source": [
    "df.info()"
   ]
  },
  {
   "cell_type": "code",
   "execution_count": 326,
   "metadata": {},
   "outputs": [
    {
     "data": {
      "text/plain": [
       "Series([], Name: count, dtype: int64)"
      ]
     },
     "execution_count": 326,
     "metadata": {},
     "output_type": "execute_result"
    }
   ],
   "source": [
    "df[df.duplicated()].value_counts().head()"
   ]
  },
  {
   "cell_type": "code",
   "execution_count": 327,
   "metadata": {},
   "outputs": [],
   "source": [
    "df.drop_duplicates(inplace=True)"
   ]
  },
  {
   "cell_type": "code",
   "execution_count": 328,
   "metadata": {},
   "outputs": [
    {
     "name": "stdout",
     "output_type": "stream",
     "text": [
      "<class 'pandas.core.frame.DataFrame'>\n",
      "RangeIndex: 225 entries, 0 to 224\n",
      "Data columns (total 7 columns):\n",
      " #   Column                Non-Null Count  Dtype         \n",
      "---  ------                --------------  -----         \n",
      " 0   Company               225 non-null    object        \n",
      " 1   Title                 225 non-null    object        \n",
      " 2   Location              225 non-null    object        \n",
      " 3   Published_At          225 non-null    object        \n",
      " 4   Application_Deadline  225 non-null    object        \n",
      " 5   Posted_Date           225 non-null    datetime64[ns]\n",
      " 6   Deadline_Date         225 non-null    datetime64[ns]\n",
      "dtypes: datetime64[ns](2), object(5)\n",
      "memory usage: 12.4+ KB\n"
     ]
    }
   ],
   "source": [
    "df.info()"
   ]
  },
  {
   "cell_type": "code",
   "execution_count": 214,
   "metadata": {},
   "outputs": [
    {
     "data": {
      "text/html": [
       "<div>\n",
       "<style scoped>\n",
       "    .dataframe tbody tr th:only-of-type {\n",
       "        vertical-align: middle;\n",
       "    }\n",
       "\n",
       "    .dataframe tbody tr th {\n",
       "        vertical-align: top;\n",
       "    }\n",
       "\n",
       "    .dataframe thead th {\n",
       "        text-align: right;\n",
       "    }\n",
       "</style>\n",
       "<table border=\"1\" class=\"dataframe\">\n",
       "  <thead>\n",
       "    <tr style=\"text-align: right;\">\n",
       "      <th></th>\n",
       "      <th>Company</th>\n",
       "      <th>Title</th>\n",
       "      <th>Location</th>\n",
       "      <th>Published_At</th>\n",
       "      <th>Application_Deadline</th>\n",
       "    </tr>\n",
       "  </thead>\n",
       "  <tbody>\n",
       "  </tbody>\n",
       "</table>\n",
       "</div>"
      ],
      "text/plain": [
       "Empty DataFrame\n",
       "Columns: [Company, Title, Location, Published_At, Application_Deadline]\n",
       "Index: []"
      ]
     },
     "execution_count": 214,
     "metadata": {},
     "output_type": "execute_result"
    }
   ],
   "source": [
    "df[df.duplicated()]"
   ]
  },
  {
   "attachments": {},
   "cell_type": "markdown",
   "metadata": {},
   "source": [
    "Dari data diatas menunjukan masih terdapat data yang belum bersih dimana nama kota masih menujukan data yang tidak valid dan dari data 10 besar yang tampilkan hanya terdapat 2 kota yang muncul yaitu Jakarta dan Tangerang. Untuk itu saya akan bersihkan menjadi nama kota seutuhnya"
   ]
  },
  {
   "cell_type": "code",
   "execution_count": 194,
   "metadata": {},
   "outputs": [
    {
     "name": "stdout",
     "output_type": "stream",
     "text": [
      "<class 'pandas.core.frame.DataFrame'>\n",
      "Int64Index: 148 entries, 0 to 206\n",
      "Data columns (total 5 columns):\n",
      " #   Column       Non-Null Count  Dtype \n",
      "---  ------       --------------  ----- \n",
      " 0   Company      148 non-null    object\n",
      " 1   Title        148 non-null    object\n",
      " 2   Location     148 non-null    object\n",
      " 3   Posted_Date  148 non-null    object\n",
      " 4   Apply_Date   148 non-null    object\n",
      "dtypes: object(5)\n",
      "memory usage: 6.9+ KB\n"
     ]
    }
   ],
   "source": [
    "df.info()"
   ]
  }
 ],
 "metadata": {
  "kernelspec": {
   "display_name": "vulcan_da",
   "language": "python",
   "name": "vulcan_da"
  },
  "language_info": {
   "codemirror_mode": {
    "name": "ipython",
    "version": 3
   },
   "file_extension": ".py",
   "mimetype": "text/x-python",
   "name": "python",
   "nbconvert_exporter": "python",
   "pygments_lexer": "ipython3",
   "version": "3.10.11"
  },
  "orig_nbformat": 4
 },
 "nbformat": 4,
 "nbformat_minor": 2
}
