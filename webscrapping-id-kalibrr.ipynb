{
 "cells": [
  {
   "attachments": {},
   "cell_type": "markdown",
   "metadata": {},
   "source": [
    "## Web Scraping pada Website kalibrr.id Menggunakan Python\n",
    "\n",
    "Web scraping (atau juga disebut sebagai web data mining atau web harvesting) adalah teknik pengambilan data dari halaman web secara otomatis dengan menggunakan perangkat lunak tertentu. Teknik ini digunakan untuk mengekstrak informasi dari berbagai situs web, termasuk teks, gambar, audio, video, dan informasi lainnya yang dapat diakses melalui jaringan internet.\n",
    "\n",
    "Web scraping dapat dilakukan dengan menggunakan berbagai teknologi dan metode, seperti crawling, parsing, scraping, dan ekstraksi data. Tujuan dari web scraping adalah untuk mengumpulkan data dari berbagai sumber yang berbeda dan menggunakannya untuk berbagai tujuan, seperti penelitian pasar, analisis data, pengumpulan berita, dan sebagainya.\n",
    "\n",
    "Namun, perlu diingat bahwa beberapa situs web mungkin melarang atau menghambat penggunaan teknik web scraping pada halaman web mereka, sehingga penggunaan teknik ini harus dilakukan dengan hati-hati dan dengan memperhatikan hak cipta dan privasi.\n",
    "\n",
    "\n",
    "www.kalibrr.id adalah situs web yang menyediakan platform untuk pencarian pekerjaan dan rekrutmen di Indonesia. Situs ini memungkinkan perusahaan untuk memposting lowongan pekerjaan mereka dan mencari kandidat yang cocok untuk posisi tersebut, serta memungkinkan pencari kerja untuk mencari lowongan pekerjaan yang sesuai dengan kualifikasi dan minat mereka.\n",
    "\n",
    "<img src=\"asset/kalibrr_id.png\">\n",
    "\n",
    "Sebelum memulai scraping web menggunakan python ada beberapa hal yang perlu disiapkan. Pertama, kita harus menginstall library yang diperlukan untuk scraping web yaitu \"request\" ,\"bs4\" dan \"pandas. Pada library \"bs4\" kita akan menggunakan sebuah fungsi yang bernama BeautifulSoup yang berguna untuk proses pengambilan data pada website. Pastikan anda install libary sebagai berikut :\n",
    "\n",
    "\n",
    "1. \"Requests\" digunakan untuk mengirim permintaan HTTP ke server dan mendapatkan respon\n",
    "2. \"BeautifulSoup\" digunakan untuk melakukan parsing atau ekstraksi data dari HTML dan XML\n",
    "3. \"Pandas\" digunakan untuk membantu mengelola data yang telah di scrape dan melakukan analisis data\n",
    "4. \"Flask\"\n",
    "5. \"Matplotlib\"\n"
   ]
  },
  {
   "attachments": {},
   "cell_type": "markdown",
   "metadata": {},
   "source": [
    "## Setting Virtual Environment , Kernel and Requirement Dependencies\n",
    "\n",
    "Environment dan Kernel pada Jupyter Notebook berfungsi untuk memastikan bahwa dependensi dan pustaka yang digunakan pada proyek atau aplikasi tertentu terisolasi dan tidak mempengaruhi proyek atau aplikasi lain. Kernel, sebagai bagian inti dari sistem, bertanggung jawab untuk mengeksekusi kode dalam bahasa pemrograman tertentu dan dapat diganti sesuai kebutuhan.\n",
    "\n",
    "a. Untuk Membuat Virtual Environment dan kernel, buka Anaconda Prompt dengan perintah sebagai berikut :\n",
    "\n",
    "- conda create -n <ENV_NAME> python=3.10\n",
    "- conda activate <ENV_NAME>\n",
    "\n",
    "- conda install ipykernel\n",
    "- python -m ipykernel install --user --name <ENV_NAME>\n",
    "\n",
    "b. Requirement Dependencies, atau dependensi kebutuhan, adalah daftar pustaka, modul, atau perangkat lunak lainnya yang diperlukan oleh suatu program atau aplikasi untuk berjalan dengan benar. Dalam pengembangan perangkat lunak, daftar dependensi biasanya didefinisikan dalam sebuah file yang disebut \"requirements file\". Seluruh dependecies telah di-export ke dalam file requirements.txt. Oleh karena itu untuk melakukan install packages anda hanya perlu melakukan install pakage sebagai berikut :\n",
    "\n",
    "- pip install -r requirements.txt --user\n",
    "\n",
    "untuk memastikan seluruh dependecies sudah ter-install, kita bisa melakukan pengecekan dengan perintah berikut :\n",
    "\n",
    "- conda list -n <ENY_NAME>\n",
    "\n",
    "<img src=\"asset/capture_list_env.png\">\n",
    "\n"
   ]
  },
  {
   "cell_type": "code",
   "execution_count": 30,
   "metadata": {},
   "outputs": [],
   "source": [
    "import requests\n",
    "import re\n",
    "from urllib.request import urlopen as uReq\n",
    "from bs4 import BeautifulSoup\n",
    "import pandas as pd"
   ]
  },
  {
   "cell_type": "code",
   "execution_count": 31,
   "metadata": {},
   "outputs": [
    {
     "name": "stdout",
     "output_type": "stream",
     "text": [
      "reading html element......!!!\n"
     ]
    }
   ],
   "source": [
    "def divElement(page_no) :\n",
    "    url = \"https://www.kalibrr.id/job-board/te/data/co/Indonesia/\"\n",
    "    pageFilter = \"?sort=Freshness\"\n",
    "\n",
    "    url_get = requests.get(url+str(page_no)+pageFilter)\n",
    "\n",
    "    soup = BeautifulSoup(url_get.content,\"html.parser\")\n",
    "\n",
    "    div_elements = soup.find_all('div', attrs={'class':'k-grid k-border-tertiary-ghost-color k-text-sm k-p-4 md:k-p-6 css-1b4vug6'})\n",
    "    # print(len(div_elements))\n",
    "    return div_elements\n",
    "print(\"reading html element......!!!\")"
   ]
  },
  {
   "cell_type": "code",
   "execution_count": 32,
   "metadata": {},
   "outputs": [
    {
     "name": "stdout",
     "output_type": "stream",
     "text": [
      "get job info....!!\n"
     ]
    }
   ],
   "source": [
    "def getJobInfo(job) :\n",
    "\n",
    "    job_company = job.select_one('div.k-col-start-3.k-row-start-3 a')\n",
    "    if job_company is not None :\n",
    "        # print('Company :',job_company.text.strip())\n",
    "        job_company = job_company.text.replace('\\n', \"\").replace(',', '').strip()\n",
    "\n",
    "    # for job_titles :\n",
    "    job_title = job.select_one('div.k-col-start-3.k-row-start-1 h2 a')\n",
    "    if job_title is not None:\n",
    "        # print('Position :',job_title.text.strip())\n",
    "        job_title = job_title.text.replace('\\n', \"\").replace(',', '').strip()\n",
    "\n",
    "    # for job_locations :\n",
    "    job_location = job.select_one('div.k-col-start-3.k-row-start-3 a.k-text-subdued.k-block')\n",
    "    if job_location is not None :\n",
    "        job_location = job_location.text.replace('\\n', \"\").replace(',', '').strip()\n",
    "        job_location = re.sub(r\"\\bIndonesia\\b\", \"\", job_location).strip()\n",
    "        # print('Location :',job_location)\n",
    "    \n",
    "    # for date info     \n",
    "    posted_info = job.select_one('div.k-col-start-5.k-row-start-1 span:first-of-type')\n",
    "    if posted_info is not None :\n",
    "        posted_info = posted_info.text.strip()\n",
    "        published_at, application_deadline = posted_info.split(\"• Apply before\")\n",
    "        published_at = published_at.replace('ago', '').replace('Posted', '').strip()\n",
    "        application_deadline = application_deadline.strip()\n",
    "\n",
    "    job_data = [job_company, job_title, job_location, published_at, application_deadline]\n",
    "    return job_data\n",
    "\n",
    "print(\"get job info....!!\")\n"
   ]
  },
  {
   "cell_type": "code",
   "execution_count": 33,
   "metadata": {},
   "outputs": [],
   "source": [
    "def save_file() :\n",
    "    i = 0\n",
    "\n",
    "    job_desc = divElement(page_no=page)\n",
    "    # print(\"Total Save :\",len(job_desc))\n",
    "\n",
    "    for job in job_desc :\n",
    "        i = i + 1\n",
    "        job_info = getJobInfo(job)\n",
    "        csv.write(job_info[0]+ ',' + job_info[1] + ',' + job_info[2] + ',' + job_info[3] + \",\" + job_info[4]+ '\\n')\n",
    "        # print(\"save\",i)\n"
   ]
  },
  {
   "cell_type": "code",
   "execution_count": 34,
   "metadata": {},
   "outputs": [
    {
     "name": "stdout",
     "output_type": "stream",
     "text": [
      "Page from : 1\n",
      "Page from : 2\n",
      "Page from : 3\n",
      "Page from : 4\n",
      "Page from : 5\n",
      "Page from : 6\n",
      "Page from : 7\n",
      "Page from : 8\n",
      "Page from : 9\n",
      "Page from : 10\n",
      "Page from : 11\n",
      "Page from : 12\n",
      "Page from : 13\n",
      "Page from : 14\n",
      "Page from : 15\n",
      "Scraping is successful !!\n"
     ]
    }
   ],
   "source": [
    "csv=open(\"db_kalibrr.csv\", 'w')\n",
    "headers = \"Company,Title,Location,Published_At,Application_Deadline\\n\"\n",
    "csv.write(headers)\n",
    "\n",
    "\n",
    "for page in range(1,16):\n",
    "\n",
    "    print('Page from :',page)\n",
    "\n",
    "    save_file()\n",
    "\n",
    "print('Scraping is successful !!')\n",
    "\n",
    "csv.close()   "
   ]
  },
  {
   "cell_type": "code",
   "execution_count": 76,
   "metadata": {},
   "outputs": [],
   "source": [
    "df = pd.read_csv('db_kalibrr.csv')\n",
    "df['Application_Deadline'] = df['Application_Deadline'].str.strip()\n"
   ]
  },
  {
   "cell_type": "code",
   "execution_count": 80,
   "metadata": {},
   "outputs": [
    {
     "data": {
      "text/html": [
       "<div>\n",
       "<style scoped>\n",
       "    .dataframe tbody tr th:only-of-type {\n",
       "        vertical-align: middle;\n",
       "    }\n",
       "\n",
       "    .dataframe tbody tr th {\n",
       "        vertical-align: top;\n",
       "    }\n",
       "\n",
       "    .dataframe thead th {\n",
       "        text-align: right;\n",
       "    }\n",
       "</style>\n",
       "<table border=\"1\" class=\"dataframe\">\n",
       "  <thead>\n",
       "    <tr style=\"text-align: right;\">\n",
       "      <th></th>\n",
       "      <th>Company</th>\n",
       "      <th>Title</th>\n",
       "      <th>Location</th>\n",
       "      <th>Published_At</th>\n",
       "      <th>Application_Deadline</th>\n",
       "      <th>Posted_Date</th>\n",
       "    </tr>\n",
       "  </thead>\n",
       "  <tbody>\n",
       "    <tr>\n",
       "      <th>0</th>\n",
       "      <td>PaninBank</td>\n",
       "      <td>MIS &amp; Data Analytics</td>\n",
       "      <td>Jakarta Pusat</td>\n",
       "      <td>an hour</td>\n",
       "      <td>11 May</td>\n",
       "      <td>2023-05-05 17:00:28.084360</td>\n",
       "    </tr>\n",
       "    <tr>\n",
       "      <th>1</th>\n",
       "      <td>PT Panin Dai-Ichi Life (Bancassurance)</td>\n",
       "      <td>Bancassurance Oficer (Area: Pluit Cengkareng B...</td>\n",
       "      <td>North Jakarta</td>\n",
       "      <td>2 hours</td>\n",
       "      <td>3 Jul</td>\n",
       "      <td>2023-05-05 15:01:28.084360</td>\n",
       "    </tr>\n",
       "    <tr>\n",
       "      <th>2</th>\n",
       "      <td>PT Mobilitas Digital Indonesia</td>\n",
       "      <td>B2B Commercial Sales Account</td>\n",
       "      <td>East Jakarta</td>\n",
       "      <td>2 hours</td>\n",
       "      <td>4 Jun</td>\n",
       "      <td>2023-05-05 15:01:28.084360</td>\n",
       "    </tr>\n",
       "    <tr>\n",
       "      <th>3</th>\n",
       "      <td>ATI Business Group</td>\n",
       "      <td>Corporate IT Leader</td>\n",
       "      <td>Central Jakarta</td>\n",
       "      <td>5 hours</td>\n",
       "      <td>3 Jul</td>\n",
       "      <td>2023-05-05 12:01:28.084360</td>\n",
       "    </tr>\n",
       "    <tr>\n",
       "      <th>4</th>\n",
       "      <td>Schoters</td>\n",
       "      <td>Data Analyst</td>\n",
       "      <td>South Jakarta</td>\n",
       "      <td>7 hours</td>\n",
       "      <td>3 Jul</td>\n",
       "      <td>2023-05-05 10:01:28.084360</td>\n",
       "    </tr>\n",
       "    <tr>\n",
       "      <th>5</th>\n",
       "      <td>PT Panin Dai-Ichi Life (Bancassurance)</td>\n",
       "      <td>Bancassurance Officer (Area: DKI Jakarta &amp; Jaw...</td>\n",
       "      <td>Central Jakarta</td>\n",
       "      <td>8 hours</td>\n",
       "      <td>16 May</td>\n",
       "      <td>2023-05-05 09:01:28.084360</td>\n",
       "    </tr>\n",
       "    <tr>\n",
       "      <th>6</th>\n",
       "      <td>Kompas Gramedia</td>\n",
       "      <td>News Video Editor - KOMPAS.com (Solo)</td>\n",
       "      <td>Surakarta</td>\n",
       "      <td>a day</td>\n",
       "      <td>30 Jul</td>\n",
       "      <td>2023-05-04 17:01:28.084360</td>\n",
       "    </tr>\n",
       "    <tr>\n",
       "      <th>7</th>\n",
       "      <td>PT Global Urban Esensial</td>\n",
       "      <td>Growth B2C Lead</td>\n",
       "      <td>South Tangerang</td>\n",
       "      <td>a day</td>\n",
       "      <td>2 Jul</td>\n",
       "      <td>2023-05-04 17:01:28.084360</td>\n",
       "    </tr>\n",
       "    <tr>\n",
       "      <th>8</th>\n",
       "      <td>PT Alam Sutera Realty Tbk</td>\n",
       "      <td>Finance Accounting Staff (Pasar Kemis Kab. Tan...</td>\n",
       "      <td>Tangerang Kota</td>\n",
       "      <td>a day</td>\n",
       "      <td>2 Jul</td>\n",
       "      <td>2023-05-04 17:01:28.084360</td>\n",
       "    </tr>\n",
       "    <tr>\n",
       "      <th>9</th>\n",
       "      <td>PT. Sinar Mitra Sepadan Finance (SMSFinance)</td>\n",
       "      <td>HR Industrial Relation Specialist</td>\n",
       "      <td>Jakarta Selatan</td>\n",
       "      <td>a day</td>\n",
       "      <td>2 Jul</td>\n",
       "      <td>2023-05-04 17:01:28.084360</td>\n",
       "    </tr>\n",
       "    <tr>\n",
       "      <th>10</th>\n",
       "      <td>PT Panin Dai-Ichi Life (Bancassurance)</td>\n",
       "      <td>Bancassurance Officer (Area: Sulawesi Bali &amp; P...</td>\n",
       "      <td>Makassar</td>\n",
       "      <td>a day</td>\n",
       "      <td>14 May</td>\n",
       "      <td>2023-05-04 17:01:28.084360</td>\n",
       "    </tr>\n",
       "    <tr>\n",
       "      <th>11</th>\n",
       "      <td>PT Panin Dai-Ichi Life (Bancassurance)</td>\n",
       "      <td>Bancassurance Officer (Area: Jawa Timur &amp; Jawa...</td>\n",
       "      <td>Surabaya</td>\n",
       "      <td>a day</td>\n",
       "      <td>14 May</td>\n",
       "      <td>2023-05-04 17:01:28.084360</td>\n",
       "    </tr>\n",
       "    <tr>\n",
       "      <th>12</th>\n",
       "      <td>PT Panin Dai-Ichi Life (Bancassurance)</td>\n",
       "      <td>Bancassurance Officer (Area: Bali Mataram Sura...</td>\n",
       "      <td>Surabaya</td>\n",
       "      <td>a day</td>\n",
       "      <td>14 May</td>\n",
       "      <td>2023-05-04 17:01:28.084360</td>\n",
       "    </tr>\n",
       "    <tr>\n",
       "      <th>13</th>\n",
       "      <td>SKINTIFIC</td>\n",
       "      <td>Beauty Product Development</td>\n",
       "      <td>Jakarta Selatan</td>\n",
       "      <td>a day</td>\n",
       "      <td>2 Aug</td>\n",
       "      <td>2023-05-04 17:01:28.084360</td>\n",
       "    </tr>\n",
       "    <tr>\n",
       "      <th>14</th>\n",
       "      <td>PGI Data</td>\n",
       "      <td>Odoo Developer</td>\n",
       "      <td>Jakarta</td>\n",
       "      <td>a day</td>\n",
       "      <td>29 Jun</td>\n",
       "      <td>2023-05-04 17:01:28.084360</td>\n",
       "    </tr>\n",
       "  </tbody>\n",
       "</table>\n",
       "</div>"
      ],
      "text/plain": [
       "                                         Company   \n",
       "0                                      PaninBank  \\\n",
       "1         PT Panin Dai-Ichi Life (Bancassurance)   \n",
       "2                 PT Mobilitas Digital Indonesia   \n",
       "3                             ATI Business Group   \n",
       "4                                       Schoters   \n",
       "5         PT Panin Dai-Ichi Life (Bancassurance)   \n",
       "6                                Kompas Gramedia   \n",
       "7                       PT Global Urban Esensial   \n",
       "8                      PT Alam Sutera Realty Tbk   \n",
       "9   PT. Sinar Mitra Sepadan Finance (SMSFinance)   \n",
       "10        PT Panin Dai-Ichi Life (Bancassurance)   \n",
       "11        PT Panin Dai-Ichi Life (Bancassurance)   \n",
       "12        PT Panin Dai-Ichi Life (Bancassurance)   \n",
       "13                                     SKINTIFIC   \n",
       "14                                      PGI Data   \n",
       "\n",
       "                                                Title         Location   \n",
       "0                                MIS & Data Analytics    Jakarta Pusat  \\\n",
       "1   Bancassurance Oficer (Area: Pluit Cengkareng B...    North Jakarta   \n",
       "2                        B2B Commercial Sales Account     East Jakarta   \n",
       "3                                 Corporate IT Leader  Central Jakarta   \n",
       "4                                        Data Analyst    South Jakarta   \n",
       "5   Bancassurance Officer (Area: DKI Jakarta & Jaw...  Central Jakarta   \n",
       "6               News Video Editor - KOMPAS.com (Solo)        Surakarta   \n",
       "7                                     Growth B2C Lead  South Tangerang   \n",
       "8   Finance Accounting Staff (Pasar Kemis Kab. Tan...   Tangerang Kota   \n",
       "9                   HR Industrial Relation Specialist  Jakarta Selatan   \n",
       "10  Bancassurance Officer (Area: Sulawesi Bali & P...         Makassar   \n",
       "11  Bancassurance Officer (Area: Jawa Timur & Jawa...         Surabaya   \n",
       "12  Bancassurance Officer (Area: Bali Mataram Sura...         Surabaya   \n",
       "13                         Beauty Product Development  Jakarta Selatan   \n",
       "14                                     Odoo Developer          Jakarta   \n",
       "\n",
       "   Published_At Application_Deadline                Posted_Date  \n",
       "0       an hour               11 May 2023-05-05 17:00:28.084360  \n",
       "1       2 hours                3 Jul 2023-05-05 15:01:28.084360  \n",
       "2       2 hours                4 Jun 2023-05-05 15:01:28.084360  \n",
       "3       5 hours                3 Jul 2023-05-05 12:01:28.084360  \n",
       "4       7 hours                3 Jul 2023-05-05 10:01:28.084360  \n",
       "5       8 hours               16 May 2023-05-05 09:01:28.084360  \n",
       "6         a day               30 Jul 2023-05-04 17:01:28.084360  \n",
       "7         a day                2 Jul 2023-05-04 17:01:28.084360  \n",
       "8         a day                2 Jul 2023-05-04 17:01:28.084360  \n",
       "9         a day                2 Jul 2023-05-04 17:01:28.084360  \n",
       "10        a day               14 May 2023-05-04 17:01:28.084360  \n",
       "11        a day               14 May 2023-05-04 17:01:28.084360  \n",
       "12        a day               14 May 2023-05-04 17:01:28.084360  \n",
       "13        a day                2 Aug 2023-05-04 17:01:28.084360  \n",
       "14        a day               29 Jun 2023-05-04 17:01:28.084360  "
      ]
     },
     "execution_count": 80,
     "metadata": {},
     "output_type": "execute_result"
    }
   ],
   "source": [
    "df.head(15)"
   ]
  },
  {
   "cell_type": "code",
   "execution_count": 78,
   "metadata": {},
   "outputs": [
    {
     "name": "stdout",
     "output_type": "stream",
     "text": [
      "<class 'pandas.core.frame.DataFrame'>\n",
      "RangeIndex: 225 entries, 0 to 224\n",
      "Data columns (total 5 columns):\n",
      " #   Column                Non-Null Count  Dtype \n",
      "---  ------                --------------  ----- \n",
      " 0   Company               225 non-null    object\n",
      " 1   Title                 225 non-null    object\n",
      " 2   Location              225 non-null    object\n",
      " 3   Published_At          225 non-null    object\n",
      " 4   Application_Deadline  225 non-null    object\n",
      "dtypes: object(5)\n",
      "memory usage: 8.9+ KB\n"
     ]
    }
   ],
   "source": [
    "df.info()"
   ]
  },
  {
   "cell_type": "code",
   "execution_count": 38,
   "metadata": {},
   "outputs": [
    {
     "data": {
      "text/plain": [
       "False    225\n",
       "Name: count, dtype: int64"
      ]
     },
     "execution_count": 38,
     "metadata": {},
     "output_type": "execute_result"
    }
   ],
   "source": [
    "df.duplicated().value_counts()"
   ]
  },
  {
   "cell_type": "code",
   "execution_count": 39,
   "metadata": {},
   "outputs": [
    {
     "data": {
      "text/plain": [
       "Company                 0\n",
       "Title                   0\n",
       "Location                0\n",
       "Published_At            0\n",
       "Application_Deadline    0\n",
       "dtype: int64"
      ]
     },
     "execution_count": 39,
     "metadata": {},
     "output_type": "execute_result"
    }
   ],
   "source": [
    "df.isna().sum()"
   ]
  },
  {
   "cell_type": "code",
   "execution_count": 84,
   "metadata": {},
   "outputs": [
    {
     "data": {
      "text/plain": [
       "Published_At  Application_Deadline\n",
       "a month       30 May                  12\n",
       "22 days       11 Jun                   6\n",
       "a month       29 May                   6\n",
       "              26 May                   6\n",
       "2 months      30 May                   6\n",
       "                                      ..\n",
       "              24 May                   1\n",
       "              24 Dec                   1\n",
       "              20 May                   1\n",
       "              17 Mar                   1\n",
       "an hour       11 May                   1\n",
       "Name: count, Length: 137, dtype: int64"
      ]
     },
     "execution_count": 84,
     "metadata": {},
     "output_type": "execute_result"
    }
   ],
   "source": [
    "df[['Published_At','Application_Deadline']].value_counts()"
   ]
  },
  {
   "cell_type": "code",
   "execution_count": 87,
   "metadata": {},
   "outputs": [],
   "source": [
    "import numpy as np\n",
    "# fungsi untuk mengubah nilai menjadi timedelta jika dapat diubah\n",
    "def to_timedelta(val):\n",
    "    try:\n",
    "        return pd.Timedelta(val)\n",
    "    except:\n",
    "        pass\n",
    "    try:\n",
    "        if 'years' in val:\n",
    "            val = val.replace('years', '').strip()\n",
    "            return int(val) * pd.Timedelta(days=365)\n",
    "        if 'year' in val:\n",
    "            val = val.replace('year', '').strip()\n",
    "            return int(val) * pd.Timedelta(days=365)\n",
    "        if 'months' in val:\n",
    "            val = val.replace('months', '').strip()\n",
    "            return int(val) * pd.Timedelta(days=30)\n",
    "        if 'days' in val:\n",
    "            val = val.replace('days', '').strip()\n",
    "            return pd.Timedelta(days=int(val))\n",
    "        if 'month' in val:\n",
    "            return pd.Timedelta(days=30)\n",
    "        if 'day' in val:\n",
    "            return pd.Timedelta(days=1)\n",
    "        # if 'hours' in val:\n",
    "        #     return pd.Timedelta(days=1)\n",
    "        if 'minute' in val:\n",
    "            val = val.replace('minute', '').strip()\n",
    "            return pd.Timedelta(minutes=int(val))\n",
    "        if 'minutes' in val:\n",
    "            val = val.replace('minutes', '').strip()\n",
    "            return pd.Timedelta(minutes=int(val))\n",
    "        if 'hour' in val:\n",
    "            val = val.replace('an', '1').replace('hour', '').strip()\n",
    "            return pd.Timedelta(minutes=int(val))\n",
    "        if 'hours' in val:\n",
    "            val = val.replace('hours', '').strip()\n",
    "            return pd.Timedelta(minutes=int(val))\n",
    "    except:\n",
    "        pass\n",
    "    return np.nan\n",
    "\n",
    "now = pd.Timestamp.now()\n",
    "# konversi kolom posted_date menjadi timedelta\n",
    "df['Posted_Date'] = df['Published_At'].apply(to_timedelta)\n",
    "df['Posted_Date'] = now - df['Posted_Date']\n",
    "df['Posted_Date']\n",
    "df['Posted_Date'] = df['Posted_Date'].apply(lambda x: x.strftime('%d-%m-%Y'))\n",
    "df['Posted_Date'] = pd.to_datetime(df['Posted_Date'], format='%d-%m-%Y')\n"
   ]
  },
  {
   "cell_type": "code",
   "execution_count": 83,
   "metadata": {},
   "outputs": [
    {
     "data": {
      "text/html": [
       "<div>\n",
       "<style scoped>\n",
       "    .dataframe tbody tr th:only-of-type {\n",
       "        vertical-align: middle;\n",
       "    }\n",
       "\n",
       "    .dataframe tbody tr th {\n",
       "        vertical-align: top;\n",
       "    }\n",
       "\n",
       "    .dataframe thead th {\n",
       "        text-align: right;\n",
       "    }\n",
       "</style>\n",
       "<table border=\"1\" class=\"dataframe\">\n",
       "  <thead>\n",
       "    <tr style=\"text-align: right;\">\n",
       "      <th></th>\n",
       "      <th>Company</th>\n",
       "      <th>Title</th>\n",
       "      <th>Location</th>\n",
       "      <th>Published_At</th>\n",
       "      <th>Application_Deadline</th>\n",
       "      <th>Posted_Date</th>\n",
       "    </tr>\n",
       "  </thead>\n",
       "  <tbody>\n",
       "    <tr>\n",
       "      <th>0</th>\n",
       "      <td>PaninBank</td>\n",
       "      <td>MIS &amp; Data Analytics</td>\n",
       "      <td>Jakarta Pusat</td>\n",
       "      <td>an hour</td>\n",
       "      <td>11 May</td>\n",
       "      <td>05-05-2023</td>\n",
       "    </tr>\n",
       "    <tr>\n",
       "      <th>1</th>\n",
       "      <td>PT Panin Dai-Ichi Life (Bancassurance)</td>\n",
       "      <td>Bancassurance Oficer (Area: Pluit Cengkareng B...</td>\n",
       "      <td>North Jakarta</td>\n",
       "      <td>2 hours</td>\n",
       "      <td>3 Jul</td>\n",
       "      <td>05-05-2023</td>\n",
       "    </tr>\n",
       "    <tr>\n",
       "      <th>2</th>\n",
       "      <td>PT Mobilitas Digital Indonesia</td>\n",
       "      <td>B2B Commercial Sales Account</td>\n",
       "      <td>East Jakarta</td>\n",
       "      <td>2 hours</td>\n",
       "      <td>4 Jun</td>\n",
       "      <td>05-05-2023</td>\n",
       "    </tr>\n",
       "    <tr>\n",
       "      <th>3</th>\n",
       "      <td>ATI Business Group</td>\n",
       "      <td>Corporate IT Leader</td>\n",
       "      <td>Central Jakarta</td>\n",
       "      <td>5 hours</td>\n",
       "      <td>3 Jul</td>\n",
       "      <td>05-05-2023</td>\n",
       "    </tr>\n",
       "    <tr>\n",
       "      <th>4</th>\n",
       "      <td>Schoters</td>\n",
       "      <td>Data Analyst</td>\n",
       "      <td>South Jakarta</td>\n",
       "      <td>7 hours</td>\n",
       "      <td>3 Jul</td>\n",
       "      <td>05-05-2023</td>\n",
       "    </tr>\n",
       "  </tbody>\n",
       "</table>\n",
       "</div>"
      ],
      "text/plain": [
       "                                  Company   \n",
       "0                               PaninBank  \\\n",
       "1  PT Panin Dai-Ichi Life (Bancassurance)   \n",
       "2          PT Mobilitas Digital Indonesia   \n",
       "3                      ATI Business Group   \n",
       "4                                Schoters   \n",
       "\n",
       "                                               Title         Location   \n",
       "0                               MIS & Data Analytics    Jakarta Pusat  \\\n",
       "1  Bancassurance Oficer (Area: Pluit Cengkareng B...    North Jakarta   \n",
       "2                       B2B Commercial Sales Account     East Jakarta   \n",
       "3                                Corporate IT Leader  Central Jakarta   \n",
       "4                                       Data Analyst    South Jakarta   \n",
       "\n",
       "  Published_At Application_Deadline Posted_Date  \n",
       "0      an hour               11 May  05-05-2023  \n",
       "1      2 hours                3 Jul  05-05-2023  \n",
       "2      2 hours                4 Jun  05-05-2023  \n",
       "3      5 hours                3 Jul  05-05-2023  \n",
       "4      7 hours                3 Jul  05-05-2023  "
      ]
     },
     "execution_count": 83,
     "metadata": {},
     "output_type": "execute_result"
    }
   ],
   "source": [
    "df.head()"
   ]
  },
  {
   "cell_type": "code",
   "execution_count": 85,
   "metadata": {},
   "outputs": [
    {
     "data": {
      "text/plain": [
       "Published_At  Posted_Date\n",
       "a month       05-04-2023     52\n",
       "2 months      06-03-2023     33\n",
       "3 days        02-05-2023     16\n",
       "23 days       12-04-2023     14\n",
       "8 days        27-04-2023     11\n",
       "24 days       11-04-2023     10\n",
       "25 days       10-04-2023     10\n",
       "a day         04-05-2023     10\n",
       "2 days        03-05-2023     10\n",
       "17 days       18-04-2023      9\n",
       "18 days       17-04-2023      9\n",
       "21 days       14-04-2023      9\n",
       "22 days       13-04-2023      8\n",
       "10 days       25-04-2023      7\n",
       "9 days        26-04-2023      5\n",
       "7 days        28-04-2023      3\n",
       "2 hours       05-05-2023      2\n",
       "14 days       21-04-2023      1\n",
       "5 hours       05-05-2023      1\n",
       "7 hours       05-05-2023      1\n",
       "8 hours       05-05-2023      1\n",
       "16 days       19-04-2023      1\n",
       "15 days       20-04-2023      1\n",
       "an hour       05-05-2023      1\n",
       "Name: count, dtype: int64"
      ]
     },
     "execution_count": 85,
     "metadata": {},
     "output_type": "execute_result"
    }
   ],
   "source": [
    "df[['Published_At','Posted_Date']].value_counts()"
   ]
  },
  {
   "cell_type": "code",
   "execution_count": 86,
   "metadata": {},
   "outputs": [
    {
     "data": {
      "text/plain": [
       "Company                 object\n",
       "Title                   object\n",
       "Location                object\n",
       "Published_At            object\n",
       "Application_Deadline    object\n",
       "Posted_Date             object\n",
       "dtype: object"
      ]
     },
     "execution_count": 86,
     "metadata": {},
     "output_type": "execute_result"
    }
   ],
   "source": [
    "df.dtypes"
   ]
  },
  {
   "cell_type": "code",
   "execution_count": null,
   "metadata": {},
   "outputs": [
    {
     "data": {
      "text/html": [
       "<div>\n",
       "<style scoped>\n",
       "    .dataframe tbody tr th:only-of-type {\n",
       "        vertical-align: middle;\n",
       "    }\n",
       "\n",
       "    .dataframe tbody tr th {\n",
       "        vertical-align: top;\n",
       "    }\n",
       "\n",
       "    .dataframe thead th {\n",
       "        text-align: right;\n",
       "    }\n",
       "</style>\n",
       "<table border=\"1\" class=\"dataframe\">\n",
       "  <thead>\n",
       "    <tr style=\"text-align: right;\">\n",
       "      <th></th>\n",
       "      <th>Application_Deadline</th>\n",
       "      <th>Posted_Date</th>\n",
       "    </tr>\n",
       "  </thead>\n",
       "  <tbody>\n",
       "  </tbody>\n",
       "</table>\n",
       "</div>"
      ],
      "text/plain": [
       "Empty DataFrame\n",
       "Columns: [Application_Deadline, Posted_Date]\n",
       "Index: []"
      ]
     },
     "execution_count": 192,
     "metadata": {},
     "output_type": "execute_result"
    }
   ],
   "source": [
    "df[df['Posted_Date'].dt.year == 2022][['Application_Deadline','Posted_Date']]"
   ]
  },
  {
   "cell_type": "code",
   "execution_count": null,
   "metadata": {},
   "outputs": [],
   "source": [
    "from datetime import datetime, timedelta\n",
    "def to_timedelta(s):\n",
    "    try:\n",
    "        if 'minutes' in s:\n",
    "            return timedelta(minutes=int(s.split()[0]))\n",
    "        elif 'hours' in s:\n",
    "            return timedelta(hours=int(s.split()[0]))\n",
    "        elif 'day' in s:\n",
    "            return timedelta(days=int(s.split()[0]))\n",
    "        elif 'months' in s:\n",
    "            return timedelta(days=30*int(s.split()[0]))\n",
    "        else:\n",
    "            return s\n",
    "    except:\n",
    "        return s\n",
    "    \n",
    "df['Published_Timedelta'] = df['Published_At'].apply(to_timedelta)\n",
    "# tambahkan kolom duration dengan nilai selisih antara Posted_Date dan Published_Timedelta\n",
    "df['duration'] = df['Posted_Date'] + df['Published_Timedelta']\n"
   ]
  },
  {
   "cell_type": "code",
   "execution_count": null,
   "metadata": {},
   "outputs": [
    {
     "name": "stdout",
     "output_type": "stream",
     "text": [
      "15 Jun    267\n",
      "Name: Application_Deadline, dtype: int64\n"
     ]
    }
   ],
   "source": [
    "print(df[\"Application_Deadline\"].value_counts())"
   ]
  },
  {
   "cell_type": "code",
   "execution_count": null,
   "metadata": {},
   "outputs": [
    {
     "name": "stdout",
     "output_type": "stream",
     "text": [
      "object\n",
      "datetime64[ns]\n"
     ]
    }
   ],
   "source": [
    "print(df['Modified_Apply_Date'].dtype)\n",
    "print(df['Posted_Timedelta'].dtype)"
   ]
  },
  {
   "cell_type": "code",
   "execution_count": null,
   "metadata": {},
   "outputs": [
    {
     "data": {
      "text/plain": [
       "Series([], dtype: int64)"
      ]
     },
     "execution_count": 63,
     "metadata": {},
     "output_type": "execute_result"
    }
   ],
   "source": [
    "df[df.duplicated()].value_counts().head()"
   ]
  },
  {
   "cell_type": "code",
   "execution_count": null,
   "metadata": {},
   "outputs": [],
   "source": [
    "df.drop_duplicates(inplace=True)"
   ]
  },
  {
   "cell_type": "code",
   "execution_count": null,
   "metadata": {},
   "outputs": [
    {
     "name": "stdout",
     "output_type": "stream",
     "text": [
      "<class 'pandas.core.frame.DataFrame'>\n",
      "Int64Index: 148 entries, 0 to 206\n",
      "Data columns (total 5 columns):\n",
      " #   Column       Non-Null Count  Dtype \n",
      "---  ------       --------------  ----- \n",
      " 0   Company      148 non-null    object\n",
      " 1   Title        148 non-null    object\n",
      " 2   Location     148 non-null    object\n",
      " 3   Posted_Date  148 non-null    object\n",
      " 4   Apply_Date   148 non-null    object\n",
      "dtypes: object(5)\n",
      "memory usage: 6.9+ KB\n"
     ]
    }
   ],
   "source": [
    "df.info()"
   ]
  },
  {
   "cell_type": "code",
   "execution_count": null,
   "metadata": {},
   "outputs": [
    {
     "data": {
      "text/html": [
       "<div>\n",
       "<style scoped>\n",
       "    .dataframe tbody tr th:only-of-type {\n",
       "        vertical-align: middle;\n",
       "    }\n",
       "\n",
       "    .dataframe tbody tr th {\n",
       "        vertical-align: top;\n",
       "    }\n",
       "\n",
       "    .dataframe thead th {\n",
       "        text-align: right;\n",
       "    }\n",
       "</style>\n",
       "<table border=\"1\" class=\"dataframe\">\n",
       "  <thead>\n",
       "    <tr style=\"text-align: right;\">\n",
       "      <th></th>\n",
       "      <th>Company</th>\n",
       "      <th>Title</th>\n",
       "      <th>Location</th>\n",
       "      <th>Posted_Date</th>\n",
       "      <th>Apply_Date</th>\n",
       "    </tr>\n",
       "  </thead>\n",
       "  <tbody>\n",
       "  </tbody>\n",
       "</table>\n",
       "</div>"
      ],
      "text/plain": [
       "Empty DataFrame\n",
       "Columns: [Company, Title, Location, Posted_Date, Apply_Date]\n",
       "Index: []"
      ]
     },
     "execution_count": 191,
     "metadata": {},
     "output_type": "execute_result"
    }
   ],
   "source": [
    "df[df.duplicated()]"
   ]
  },
  {
   "cell_type": "code",
   "execution_count": null,
   "metadata": {},
   "outputs": [
    {
     "data": {
      "text/plain": [
       "<AxesSubplot:xlabel='Location'>"
      ]
     },
     "execution_count": 206,
     "metadata": {},
     "output_type": "execute_result"
    },
    {
     "data": {
      "image/png": "[encoded data removed]",
      "text/plain": [
       "<Figure size 640x480 with 1 Axes>"
      ]
     },
     "metadata": {},
     "output_type": "display_data"
    }
   ],
   "source": [
    "df['Location'].value_counts().head(10).plot.bar()"
   ]
  },
  {
   "attachments": {},
   "cell_type": "markdown",
   "metadata": {},
   "source": [
    "Dari data diatas menunjukan masih terdapat data yang belum bersih dimana nama kota masih menujukan data yang tidak valid dan dari data 10 besar yang tampilkan hanya terdapat 2 kota yang muncul yaitu Jakarta dan Tangerang. Untuk itu saya akan bersihkan menjadi nama kota seutuhnya"
   ]
  },
  {
   "cell_type": "code",
   "execution_count": 44,
   "metadata": {},
   "outputs": [
    {
     "data": {
      "text/plain": [
       "<AxesSubplot:xlabel='Location'>"
      ]
     },
     "execution_count": 44,
     "metadata": {},
     "output_type": "execute_result"
    },
    {
     "data": {
      "image/png": "[encoded data removed]",
      "text/plain": [
       "<Figure size 640x480 with 1 Axes>"
      ]
     },
     "metadata": {},
     "output_type": "display_data"
    }
   ],
   "source": [
    "import string\n",
    "\n",
    "# Buat daftar kata-kata kunci\n",
    "key_words = {'jakarta': ['jakarta', 'jk'],\n",
    "             'barat': ['barat', 'west'],\n",
    "             'utara': ['utara', 'north'],\n",
    "             'selatan': ['selatan', 'south', 'south jakarta'],\n",
    "             'timur': ['timur', 'east'],\n",
    "             'pusat': ['pusat', 'central'],\n",
    "             'tanggerang': ['tanggerang']\n",
    "             }\n",
    "\n",
    "# Fungsi untuk mengubah nilai\n",
    "def change_value(text):\n",
    "    # Lakukan text preprocessing\n",
    "    text = text.lower()\n",
    "    text = text.translate(str.maketrans('', '', string.punctuation))\n",
    "    text = ' '.join(text.split())\n",
    "    \n",
    "    # Pisahkan menjadi kata-kata\n",
    "    words = text.split()\n",
    "    \n",
    "    # Hapus kata-kata 'pusat', 'selatan', 'timur', 'barat', 'utara' yang ada di depan kota\n",
    "    keywords = ['pusat', 'selatan', 'timur', 'barat', 'utara']\n",
    "    new_words = []\n",
    "    for i, word in enumerate(words):\n",
    "        if word not in keywords and i == 0:\n",
    "            new_words.append(word)\n",
    "        elif word in keywords and words[i-1] not in keywords:\n",
    "            continue\n",
    "        else:\n",
    "            new_words.append(word)\n",
    "\n",
    "    # Hapus kata 'kota'\n",
    "    words = [word for word in words if word != 'kota']\n",
    "    # Ganti kata-kata yang ada di dalam daftar kata-kata kunci\n",
    "    for i, word in enumerate(words):\n",
    "        for key, values in key_words.items():\n",
    "            if word in values:\n",
    "                words[i] = key\n",
    "                break\n",
    "    # Hapus kata 'city'\n",
    "    words = [word for word in words if word != 'city']\n",
    "    # Ganti kata-kata yang ada di dalam daftar kata-kata kunci\n",
    "    for i, word in enumerate(words):\n",
    "        for key, values in key_words.items():\n",
    "            if word in values:\n",
    "                words[i] = key\n",
    "                break\n",
    "\n",
    "    \n",
    "    \n",
    "    # Ganti kata-kata yang ada di dalam daftar kata-kata kunci\n",
    "    for i, word in enumerate(new_words):\n",
    "        for key, values in key_words.items():\n",
    "            if word in values:\n",
    "                new_words[i] = key\n",
    "                break\n",
    "                \n",
    "    # Gabungkan kembali kata-kata menjadi sebuah string\n",
    "    new_text = ' '.join(words)\n",
    "    \n",
    "    return new_text\n",
    "\n",
    "# Ubah nilai pada kolom tertentu\n",
    "df['Location'] = df['Location'].replace(['Central Jakarta','South Jakarta','East Jakarta', 'West Jakarta', 'North Jakarta'], \\\n",
    "                                        ['Jakarta Pusat','Jakarta Selatan','Jakarta Timur', 'Jakarta Barat', 'Jakarta Utara'])\n",
    "df['Location'] = df['Location'].apply(change_value)\n",
    "\n",
    "# Ubah nilai kolom 'Location' menjadi 'tanggerang' jika nilainya terdapat pada kota_ubah\n",
    "kota_ubah = df[df['Location'].str.contains('tangerang', case=False)]\n",
    "replace_dict = {k: 'tangerang' for k in kota_ubah['Location'].unique()}\n",
    "df['Location'] = df['Location'].replace(replace_dict)\n",
    "\n",
    "# Tampilkan hasil\n",
    "df['Location'].value_counts().head(10).plot.bar()"
   ]
  },
  {
   "attachments": {},
   "cell_type": "markdown",
   "metadata": {},
   "source": [
    "Bedasarkan data yang ditampilkan maka urutan Lowongan pekerjaan untuk \"Data\" bedasarkan lokasi yang ditampilkan adalah :\n",
    "\n",
    "1. Jakarta Selatan\n",
    "2. Jakarta Pusat\n",
    "3. Tanggerang\n",
    "4. Jakarta\n",
    "5. Jakarta Barat\n",
    "6. Jakarta Utara\n",
    "7. Jakarta Timur\n",
    "8. Surabaya\n",
    "9. Makati Philippines\n",
    "10. Quezon City Philippines\n",
    "\n",
    "Namun untuk melihat perbandingan jika Kota Jakarta dijadikan satu adalah :"
   ]
  },
  {
   "cell_type": "code",
   "execution_count": 42,
   "metadata": {},
   "outputs": [
    {
     "data": {
      "text/plain": [
       "<AxesSubplot:xlabel='Location'>"
      ]
     },
     "execution_count": 42,
     "metadata": {},
     "output_type": "execute_result"
    },
    {
     "data": {
      "image/png": "[encoded data removed]",
      "text/plain": [
       "<Figure size 640x480 with 1 Axes>"
      ]
     },
     "metadata": {},
     "output_type": "display_data"
    }
   ],
   "source": [
    "kota_ubah = df[df['Location'].str.contains('jakarta', case=False)]\n",
    "\n",
    "# Ubah nilai kolom 'Location' menjadi 'jakarta' jika nilainya terdapat pada kota_ubah\n",
    "replace_dict = {k: 'jakarta' for k in kota_ubah['Location'].unique()}\n",
    "df['Location'] = df['Location'].replace(replace_dict)\n",
    "\n",
    "\n",
    "\n",
    "df['Location'].value_counts().head(10).plot.bar()"
   ]
  },
  {
   "attachments": {},
   "cell_type": "markdown",
   "metadata": {},
   "source": [
    "Terlihat dari Diagram yang ditampilkan kalau Kota Jakarta masih merupakan Lokasi yang tinggi untuk mencari pekerjaan. Namun perlu diperhatikan data ini hanya terdiri dari 148 yang diambil dari www.kalibrr.id untuk lowongan bedasarkan kata kunci \"Data\" dan tidak mewakili dari seluruh indonesia. Untuk Perusahaan yang sering melakukan Posting lowongan perkerjaan bedasarkan kata kunci tersebut adalah sebagai berikut :"
   ]
  },
  {
   "cell_type": "code",
   "execution_count": 28,
   "metadata": {},
   "outputs": [
    {
     "data": {
      "text/plain": [
       "<AxesSubplot:xlabel='Company'>"
      ]
     },
     "execution_count": 28,
     "metadata": {},
     "output_type": "execute_result"
    },
    {
     "data": {
      "image/png": "[encoded data removed]",
      "text/plain": [
       "<Figure size 640x480 with 1 Axes>"
      ]
     },
     "metadata": {},
     "output_type": "display_data"
    }
   ],
   "source": [
    "df['Company'].value_counts().head(10).plot.bar()"
   ]
  },
  {
   "cell_type": "code",
   "execution_count": 194,
   "metadata": {},
   "outputs": [
    {
     "name": "stdout",
     "output_type": "stream",
     "text": [
      "<class 'pandas.core.frame.DataFrame'>\n",
      "Int64Index: 148 entries, 0 to 206\n",
      "Data columns (total 5 columns):\n",
      " #   Column       Non-Null Count  Dtype \n",
      "---  ------       --------------  ----- \n",
      " 0   Company      148 non-null    object\n",
      " 1   Title        148 non-null    object\n",
      " 2   Location     148 non-null    object\n",
      " 3   Posted_Date  148 non-null    object\n",
      " 4   Apply_Date   148 non-null    object\n",
      "dtypes: object(5)\n",
      "memory usage: 6.9+ KB\n"
     ]
    }
   ],
   "source": [
    "df.info()"
   ]
  }
 ],
 "metadata": {
  "kernelspec": {
   "display_name": "vulcan_da",
   "language": "python",
   "name": "vulcan_da"
  },
  "language_info": {
   "codemirror_mode": {
    "name": "ipython",
    "version": 3
   },
   "file_extension": ".py",
   "mimetype": "text/x-python",
   "name": "python",
   "nbconvert_exporter": "python",
   "pygments_lexer": "ipython3",
   "version": "3.10.11"
  },
  "orig_nbformat": 4
 },
 "nbformat": 4,
 "nbformat_minor": 2
}
